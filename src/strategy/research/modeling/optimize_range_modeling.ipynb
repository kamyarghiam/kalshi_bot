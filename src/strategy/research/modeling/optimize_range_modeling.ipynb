{
 "cells": [
  {
   "cell_type": "code",
   "execution_count": 29,
   "metadata": {},
   "outputs": [],
   "source": [
    "import pandas as pd\n",
    "from helpers.constants import LOCAL_STORAGE_FOLDER\n",
    "\n",
    "\n",
    "df = pd.read_csv(LOCAL_STORAGE_FOLDER / \"research/simple_spy_kalshi_10022023.csv\")\n"
   ]
  },
  {
   "cell_type": "code",
   "execution_count": 30,
   "metadata": {},
   "outputs": [
    {
     "data": {
      "text/html": [
       "<div>\n",
       "<style scoped>\n",
       "    .dataframe tbody tr th:only-of-type {\n",
       "        vertical-align: middle;\n",
       "    }\n",
       "\n",
       "    .dataframe tbody tr th {\n",
       "        vertical-align: top;\n",
       "    }\n",
       "\n",
       "    .dataframe thead th {\n",
       "        text-align: right;\n",
       "    }\n",
       "</style>\n",
       "<table border=\"1\" class=\"dataframe\">\n",
       "  <thead>\n",
       "    <tr style=\"text-align: right;\">\n",
       "      <th></th>\n",
       "      <th>spy_price</th>\n",
       "      <th>kalshi_price</th>\n",
       "      <th>T</th>\n",
       "    </tr>\n",
       "  </thead>\n",
       "  <tbody>\n",
       "    <tr>\n",
       "      <th>0</th>\n",
       "      <td>426790</td>\n",
       "      <td>8</td>\n",
       "      <td>0.000628</td>\n",
       "    </tr>\n",
       "    <tr>\n",
       "      <th>1</th>\n",
       "      <td>426820</td>\n",
       "      <td>8</td>\n",
       "      <td>0.000628</td>\n",
       "    </tr>\n",
       "    <tr>\n",
       "      <th>2</th>\n",
       "      <td>426820</td>\n",
       "      <td>8</td>\n",
       "      <td>0.000628</td>\n",
       "    </tr>\n",
       "    <tr>\n",
       "      <th>3</th>\n",
       "      <td>426810</td>\n",
       "      <td>8</td>\n",
       "      <td>0.000628</td>\n",
       "    </tr>\n",
       "    <tr>\n",
       "      <th>4</th>\n",
       "      <td>426810</td>\n",
       "      <td>8</td>\n",
       "      <td>0.000628</td>\n",
       "    </tr>\n",
       "    <tr>\n",
       "      <th>...</th>\n",
       "      <td>...</td>\n",
       "      <td>...</td>\n",
       "      <td>...</td>\n",
       "    </tr>\n",
       "    <tr>\n",
       "      <th>62458</th>\n",
       "      <td>425640</td>\n",
       "      <td>1</td>\n",
       "      <td>0.000074</td>\n",
       "    </tr>\n",
       "    <tr>\n",
       "      <th>62459</th>\n",
       "      <td>425640</td>\n",
       "      <td>1</td>\n",
       "      <td>0.000074</td>\n",
       "    </tr>\n",
       "    <tr>\n",
       "      <th>62460</th>\n",
       "      <td>425640</td>\n",
       "      <td>1</td>\n",
       "      <td>0.000074</td>\n",
       "    </tr>\n",
       "    <tr>\n",
       "      <th>62461</th>\n",
       "      <td>425640</td>\n",
       "      <td>1</td>\n",
       "      <td>0.000074</td>\n",
       "    </tr>\n",
       "    <tr>\n",
       "      <th>62462</th>\n",
       "      <td>425650</td>\n",
       "      <td>1</td>\n",
       "      <td>0.000074</td>\n",
       "    </tr>\n",
       "  </tbody>\n",
       "</table>\n",
       "<p>62463 rows × 3 columns</p>\n",
       "</div>"
      ],
      "text/plain": [
       "       spy_price  kalshi_price         T\n",
       "0         426790             8  0.000628\n",
       "1         426820             8  0.000628\n",
       "2         426820             8  0.000628\n",
       "3         426810             8  0.000628\n",
       "4         426810             8  0.000628\n",
       "...          ...           ...       ...\n",
       "62458     425640             1  0.000074\n",
       "62459     425640             1  0.000074\n",
       "62460     425640             1  0.000074\n",
       "62461     425640             1  0.000074\n",
       "62462     425650             1  0.000074\n",
       "\n",
       "[62463 rows x 3 columns]"
      ]
     },
     "execution_count": 30,
     "metadata": {},
     "output_type": "execute_result"
    }
   ],
   "source": [
    "df"
   ]
  },
  {
   "cell_type": "code",
   "execution_count": 31,
   "metadata": {},
   "outputs": [],
   "source": [
    "from strategy.research.modeling.range_modeling import double_no_touch_option_price\n",
    "from scipy.optimize import basinhopping\n",
    "\n",
    "spy_min = 422500\n",
    "spy_max = 425000"
   ]
  },
  {
   "cell_type": "code",
   "execution_count": 32,
   "metadata": {},
   "outputs": [
    {
     "data": {
      "text/plain": [
       "1186680.5421829543"
      ]
     },
     "execution_count": 32,
     "metadata": {},
     "output_type": "execute_result"
    }
   ],
   "source": [
    "\n",
    "\n",
    "import pandas as pd\n",
    "import numpy as np\n",
    "\n",
    "# Define a function to apply along axis 1 (rows)\n",
    "def custom_computation(x):\n",
    "    def inner_computation(row):\n",
    "        nonlocal x\n",
    "        return abs((100 * double_no_touch_option_price(row[0], spy_min, spy_max, row[2], x[0])) - row[1])\n",
    "    return inner_computation\n",
    "sum(np.apply_along_axis(custom_computation([0.01]), axis=1, arr=df))\n",
    "\n"
   ]
  },
  {
   "cell_type": "code",
   "execution_count": 33,
   "metadata": {},
   "outputs": [
    {
     "ename": "ValueError",
     "evalue": "The number of bounds is not compatible with the length of `x0`.",
     "output_type": "error",
     "traceback": [
      "\u001b[0;31m---------------------------------------------------------------------------\u001b[0m",
      "\u001b[0;31mValueError\u001b[0m                                Traceback (most recent call last)",
      "File \u001b[0;32m~/Library/Caches/pypoetry/virtualenvs/kalshi-bot-9g3T-37M-py3.11/lib/python3.11/site-packages/scipy/optimize/_minimize.py:1000\u001b[0m, in \u001b[0;36m_validate_bounds\u001b[0;34m(bounds, x0, meth)\u001b[0m\n\u001b[1;32m    999\u001b[0m \u001b[39mtry\u001b[39;00m:\n\u001b[0;32m-> 1000\u001b[0m     bounds\u001b[39m.\u001b[39mlb \u001b[39m=\u001b[39m np\u001b[39m.\u001b[39;49mbroadcast_to(bounds\u001b[39m.\u001b[39;49mlb, x0\u001b[39m.\u001b[39;49mshape)\n\u001b[1;32m   1001\u001b[0m     bounds\u001b[39m.\u001b[39mub \u001b[39m=\u001b[39m np\u001b[39m.\u001b[39mbroadcast_to(bounds\u001b[39m.\u001b[39mub, x0\u001b[39m.\u001b[39mshape)\n",
      "File \u001b[0;32m~/Library/Caches/pypoetry/virtualenvs/kalshi-bot-9g3T-37M-py3.11/lib/python3.11/site-packages/numpy/lib/stride_tricks.py:413\u001b[0m, in \u001b[0;36mbroadcast_to\u001b[0;34m(array, shape, subok)\u001b[0m\n\u001b[1;32m    369\u001b[0m \u001b[39m\u001b[39m\u001b[39m\"\"\"Broadcast an array to a new shape.\u001b[39;00m\n\u001b[1;32m    370\u001b[0m \n\u001b[1;32m    371\u001b[0m \u001b[39mParameters\u001b[39;00m\n\u001b[0;32m   (...)\u001b[0m\n\u001b[1;32m    411\u001b[0m \u001b[39m       [1, 2, 3]])\u001b[39;00m\n\u001b[1;32m    412\u001b[0m \u001b[39m\"\"\"\u001b[39;00m\n\u001b[0;32m--> 413\u001b[0m \u001b[39mreturn\u001b[39;00m _broadcast_to(array, shape, subok\u001b[39m=\u001b[39;49msubok, readonly\u001b[39m=\u001b[39;49m\u001b[39mTrue\u001b[39;49;00m)\n",
      "File \u001b[0;32m~/Library/Caches/pypoetry/virtualenvs/kalshi-bot-9g3T-37M-py3.11/lib/python3.11/site-packages/numpy/lib/stride_tricks.py:349\u001b[0m, in \u001b[0;36m_broadcast_to\u001b[0;34m(array, shape, subok, readonly)\u001b[0m\n\u001b[1;32m    348\u001b[0m extras \u001b[39m=\u001b[39m []\n\u001b[0;32m--> 349\u001b[0m it \u001b[39m=\u001b[39m np\u001b[39m.\u001b[39;49mnditer(\n\u001b[1;32m    350\u001b[0m     (array,), flags\u001b[39m=\u001b[39;49m[\u001b[39m'\u001b[39;49m\u001b[39mmulti_index\u001b[39;49m\u001b[39m'\u001b[39;49m, \u001b[39m'\u001b[39;49m\u001b[39mrefs_ok\u001b[39;49m\u001b[39m'\u001b[39;49m, \u001b[39m'\u001b[39;49m\u001b[39mzerosize_ok\u001b[39;49m\u001b[39m'\u001b[39;49m] \u001b[39m+\u001b[39;49m extras,\n\u001b[1;32m    351\u001b[0m     op_flags\u001b[39m=\u001b[39;49m[\u001b[39m'\u001b[39;49m\u001b[39mreadonly\u001b[39;49m\u001b[39m'\u001b[39;49m], itershape\u001b[39m=\u001b[39;49mshape, order\u001b[39m=\u001b[39;49m\u001b[39m'\u001b[39;49m\u001b[39mC\u001b[39;49m\u001b[39m'\u001b[39;49m)\n\u001b[1;32m    352\u001b[0m \u001b[39mwith\u001b[39;00m it:\n\u001b[1;32m    353\u001b[0m     \u001b[39m# never really has writebackifcopy semantics\u001b[39;00m\n",
      "\u001b[0;31mValueError\u001b[0m: operands could not be broadcast together with remapped shapes [original->remapped]: (2,)  and requested shape (1,)",
      "\nThe above exception was the direct cause of the following exception:\n",
      "\u001b[0;31mValueError\u001b[0m                                Traceback (most recent call last)",
      "Cell \u001b[0;32mIn[33], line 7\u001b[0m\n\u001b[1;32m      2\u001b[0m     \u001b[39mprint\u001b[39m(\u001b[39mf\u001b[39m\u001b[39m\"\u001b[39m\u001b[39mCurrent parameters: \u001b[39m\u001b[39m{\u001b[39;00mx\u001b[39m}\u001b[39;00m\u001b[39m\"\u001b[39m)\n\u001b[1;32m      4\u001b[0m \u001b[39mfrom\u001b[39;00m \u001b[39mscipy\u001b[39;00m\u001b[39m.\u001b[39;00m\u001b[39moptimize\u001b[39;00m \u001b[39mimport\u001b[39;00m minimize\n\u001b[0;32m----> 7\u001b[0m result \u001b[39m=\u001b[39m minimize(\n\u001b[1;32m      8\u001b[0m     \u001b[39mlambda\u001b[39;49;00m x: \u001b[39msum\u001b[39;49m(np\u001b[39m.\u001b[39;49mapply_along_axis(custom_computation(x), axis\u001b[39m=\u001b[39;49m\u001b[39m1\u001b[39;49m, arr\u001b[39m=\u001b[39;49mdf)),\n\u001b[1;32m      9\u001b[0m     [\u001b[39m0.01\u001b[39;49m],\n\u001b[1;32m     10\u001b[0m     bounds\u001b[39m=\u001b[39;49m[(\u001b[39m0\u001b[39;49m, \u001b[39mNone\u001b[39;49;00m), (\u001b[39m0\u001b[39;49m, \u001b[39mNone\u001b[39;49;00m)],\n\u001b[1;32m     11\u001b[0m     method\u001b[39m=\u001b[39;49m\u001b[39m'\u001b[39;49m\u001b[39mNelder-Mead\u001b[39;49m\u001b[39m'\u001b[39;49m,\n\u001b[1;32m     12\u001b[0m     callback\u001b[39m=\u001b[39;49mcallback\n\u001b[1;32m     13\u001b[0m )\n",
      "File \u001b[0;32m~/Library/Caches/pypoetry/virtualenvs/kalshi-bot-9g3T-37M-py3.11/lib/python3.11/site-packages/scipy/optimize/_minimize.py:643\u001b[0m, in \u001b[0;36mminimize\u001b[0;34m(fun, x0, args, method, jac, hess, hessp, bounds, constraints, tol, callback, options)\u001b[0m\n\u001b[1;32m    640\u001b[0m \u001b[39mif\u001b[39;00m bounds \u001b[39mis\u001b[39;00m \u001b[39mnot\u001b[39;00m \u001b[39mNone\u001b[39;00m:\n\u001b[1;32m    641\u001b[0m     \u001b[39m# convert to new-style bounds so we only have to consider one case\u001b[39;00m\n\u001b[1;32m    642\u001b[0m     bounds \u001b[39m=\u001b[39m standardize_bounds(bounds, x0, \u001b[39m'\u001b[39m\u001b[39mnew\u001b[39m\u001b[39m'\u001b[39m)\n\u001b[0;32m--> 643\u001b[0m     bounds \u001b[39m=\u001b[39m _validate_bounds(bounds, x0, meth)\n\u001b[1;32m    645\u001b[0m     \u001b[39mif\u001b[39;00m meth \u001b[39min\u001b[39;00m {\u001b[39m\"\u001b[39m\u001b[39mtnc\u001b[39m\u001b[39m\"\u001b[39m, \u001b[39m\"\u001b[39m\u001b[39mslsqp\u001b[39m\u001b[39m\"\u001b[39m, \u001b[39m\"\u001b[39m\u001b[39ml-bfgs-b\u001b[39m\u001b[39m\"\u001b[39m}:\n\u001b[1;32m    646\u001b[0m         \u001b[39m# These methods can't take the finite-difference derivatives they\u001b[39;00m\n\u001b[1;32m    647\u001b[0m         \u001b[39m# need when a variable is fixed by the bounds. To avoid this issue,\u001b[39;00m\n\u001b[0;32m   (...)\u001b[0m\n\u001b[1;32m    652\u001b[0m \n\u001b[1;32m    653\u001b[0m         \u001b[39m# determine whether any variables are fixed\u001b[39;00m\n\u001b[1;32m    654\u001b[0m         i_fixed \u001b[39m=\u001b[39m (bounds\u001b[39m.\u001b[39mlb \u001b[39m==\u001b[39m bounds\u001b[39m.\u001b[39mub)\n",
      "File \u001b[0;32m~/Library/Caches/pypoetry/virtualenvs/kalshi-bot-9g3T-37M-py3.11/lib/python3.11/site-packages/scipy/optimize/_minimize.py:1003\u001b[0m, in \u001b[0;36m_validate_bounds\u001b[0;34m(bounds, x0, meth)\u001b[0m\n\u001b[1;32m   1001\u001b[0m     bounds\u001b[39m.\u001b[39mub \u001b[39m=\u001b[39m np\u001b[39m.\u001b[39mbroadcast_to(bounds\u001b[39m.\u001b[39mub, x0\u001b[39m.\u001b[39mshape)\n\u001b[1;32m   1002\u001b[0m \u001b[39mexcept\u001b[39;00m \u001b[39mException\u001b[39;00m \u001b[39mas\u001b[39;00m e:\n\u001b[0;32m-> 1003\u001b[0m     \u001b[39mraise\u001b[39;00m \u001b[39mValueError\u001b[39;00m(msg) \u001b[39mfrom\u001b[39;00m \u001b[39me\u001b[39;00m\n\u001b[1;32m   1005\u001b[0m \u001b[39mreturn\u001b[39;00m bounds\n",
      "\u001b[0;31mValueError\u001b[0m: The number of bounds is not compatible with the length of `x0`."
     ]
    }
   ],
   "source": [
    "def callback(x):\n",
    "    print(f\"Current parameters: {x}\")\n",
    "\n",
    "from scipy.optimize import minimize\n",
    "\n",
    "\n",
    "result = minimize(\n",
    "    lambda x: sum(np.apply_along_axis(custom_computation(x), axis=1, arr=df)),\n",
    "    [0.01],\n",
    "    bounds=[(0, None)],\n",
    "    method='Nelder-Mead',\n",
    "    callback=callback\n",
    ")"
   ]
  },
  {
   "cell_type": "code",
   "execution_count": null,
   "metadata": {},
   "outputs": [],
   "source": []
  }
 ],
 "metadata": {
  "kernelspec": {
   "display_name": "kalshi-bot-9g3T-37M-py3.11",
   "language": "python",
   "name": "python3"
  },
  "language_info": {
   "codemirror_mode": {
    "name": "ipython",
    "version": 3
   },
   "file_extension": ".py",
   "mimetype": "text/x-python",
   "name": "python",
   "nbconvert_exporter": "python",
   "pygments_lexer": "ipython3",
   "version": "3.11.2"
  },
  "orig_nbformat": 4
 },
 "nbformat": 4,
 "nbformat_minor": 2
}
