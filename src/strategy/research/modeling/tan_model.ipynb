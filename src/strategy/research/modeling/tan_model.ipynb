{
 "cells": [
  {
   "cell_type": "code",
   "execution_count": null,
   "metadata": {},
   "outputs": [],
   "source": [
    "# The tan model has some promising results. This file re-does it from scratch\n",
    "\n",
    "import numpy as np\n",
    "import pandas as pd\n",
    "df = pd.read_csv( \"/Users/kamyarghiam/Desktop/kalshi_bot/src/data/local/research/11_28_spy_price_to_kalshi_time.csv\")"
   ]
  },
  {
   "cell_type": "code",
   "execution_count": null,
   "metadata": {},
   "outputs": [],
   "source": [
    "from data.coledb.coledb import ColeDBInterface\n",
    "import datetime\n",
    "\n",
    "date = \"2023-11-28\"\n",
    "end_time = \"16:00:00\"  # 4 pm\n",
    "datetime_str = f\"{date} {end_time}\"\n",
    "dt_object = datetime.datetime.strptime(datetime_str, \"%Y-%m-%d %H:%M:%S\")\n",
    "formatted_date = dt_object.strftime('%y%b%d').upper()\n",
    "from data.coledb.coledb import ColeDBInterface\n",
    "db = ColeDBInterface()\n",
    "cole_db_path = db.cole_db_storage_path / f\"INXZ/{formatted_date}\"\n",
    "market_suffix = list(cole_db_path.iterdir())[0].name\n",
    "price_threshold = float(market_suffix[1:])*10"
   ]
  },
  {
   "cell_type": "code",
   "execution_count": null,
   "metadata": {},
   "outputs": [],
   "source": [
    "df['x'] -= price_threshold"
   ]
  },
  {
   "cell_type": "code",
   "execution_count": null,
   "metadata": {},
   "outputs": [],
   "source": [
    "df.x = ((((df.x - df.x.min())/(df.x.max()-df.x.min())) - 0.5) * 6)"
   ]
  },
  {
   "cell_type": "code",
   "execution_count": null,
   "metadata": {},
   "outputs": [],
   "source": [
    "# Curve to be fitted (for ONE dataset)\n",
    "def func( x_time_tup, x0, c):\n",
    "    xval = x_time_tup[0]\n",
    "    time = x_time_tup[1]\n",
    "    return (np.tanh( c * ( xval - x0 )/ (time ) ) + 1)/2"
   ]
  },
  {
   "cell_type": "code",
   "execution_count": null,
   "metadata": {},
   "outputs": [],
   "source": [
    "from scipy.optimize import curve_fit\n",
    "x1, x2, y1, y2 = min( df.x ), max( df.x ), min( df.y ), max( df.y )\n",
    "p0 = [ 0, 1000]\n",
    "params, cv = curve_fit( func, (df.x, df.time), df.y,p0=p0 )"
   ]
  },
  {
   "cell_type": "code",
   "execution_count": null,
   "metadata": {},
   "outputs": [],
   "source": [
    "xtest =  np.linspace( df.x.min(), df.x.max(), 2000 )\n",
    "time_test = np.linspace( df.time.min(), df.time.max(), 2000 )\n",
    "ytest = [func((x,t), *params) for x,t in zip(xtest,[2]*2000)]\n",
    "import matplotlib.pyplot as plt\n",
    "plt.plot( xtest, ytest, linewidth=2)\n",
    "\n",
    "ytest = [func((x,t), *params) for x,t in zip(xtest,[5]*2000)]\n",
    "import matplotlib.pyplot as plt\n",
    "plt.plot( xtest, ytest, linewidth=2)\n",
    "\n",
    "ytest = [func((x,t), *params) for x,t in zip(xtest,[9]*2000)]\n",
    "import matplotlib.pyplot as plt\n",
    "plt.plot( xtest, ytest, linewidth=2)\n",
    "\n",
    "plt.scatter( df.x, df.y,)\n",
    "\n",
    "plt.show()"
   ]
  }
 ],
 "metadata": {
  "language_info": {
   "name": "python"
  },
  "orig_nbformat": 4
 },
 "nbformat": 4,
 "nbformat_minor": 2
}
