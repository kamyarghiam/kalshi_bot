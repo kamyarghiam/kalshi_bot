{
 "cells": [
  {
   "cell_type": "code",
   "execution_count": 1,
   "metadata": {},
   "outputs": [],
   "source": [
    "from pathlib import Path\n",
    "import os\n",
    "def load_env_vars_from_file(path: Path):\n",
    "    file = path.read_text()\n",
    "    for line in file.splitlines():\n",
    "        if line.startswith(\"export\"):\n",
    "            var_to_value = line.split(\" \")[1].split(\"=\")\n",
    "            var_ = var_to_value[0]\n",
    "            value_ = var_to_value[1][1:-1]\n",
    "            os.environ[var_] = value_\n",
    "def set_up_prod_credentials():\n",
    "    file = \"../../../../scripts/prod_setup_creds.sh\"\n",
    "    load_env_vars_from_file(Path(file))\n",
    "set_up_prod_credentials()"
   ]
  },
  {
   "cell_type": "code",
   "execution_count": 5,
   "metadata": {},
   "outputs": [],
   "source": [
    "import json\n",
    "predictions = json.load(open(\"/Users/kamyarghiam/Desktop/kalshi_bot/src/data/local/research/weather_predictions.json\"))"
   ]
  },
  {
   "cell_type": "code",
   "execution_count": 7,
   "metadata": {},
   "outputs": [],
   "source": [
    "# Looks like 2024-04-04\n",
    "days = []\n",
    "# Max temp samples for day\n",
    "samples = []\n",
    "for pred in predictions:\n",
    "    days.append(pred[0].split(\" \")[0])\n",
    "    samples.append([round(p) for p in pred[1]])"
   ]
  },
  {
   "cell_type": "code",
   "execution_count": null,
   "metadata": {},
   "outputs": [],
   "source": [
    "from exchange.interface import ExchangeInterface\n",
    "e = ExchangeInterface(is_test_run=False)"
   ]
  },
  {
   "cell_type": "code",
   "execution_count": 8,
   "metadata": {},
   "outputs": [
    {
     "data": {
      "text/plain": [
       "['2024-04-04',\n",
       " '2024-04-05',\n",
       " '2024-04-08',\n",
       " '2024-04-09',\n",
       " '2024-04-10',\n",
       " '2024-04-11',\n",
       " '2024-04-12',\n",
       " '2024-04-15',\n",
       " '2024-04-16',\n",
       " '2024-04-17',\n",
       " '2024-04-18',\n",
       " '2024-04-19',\n",
       " '2024-04-22',\n",
       " '2024-04-23',\n",
       " '2024-04-24',\n",
       " '2024-04-25',\n",
       " '2024-04-26',\n",
       " '2024-04-29',\n",
       " '2024-04-30',\n",
       " '2024-05-01',\n",
       " '2024-05-02',\n",
       " '2024-05-03',\n",
       " '2024-05-06',\n",
       " '2024-05-07',\n",
       " '2024-05-08',\n",
       " '2024-05-09',\n",
       " '2024-05-10',\n",
       " '2024-05-13',\n",
       " '2024-05-14',\n",
       " '2024-05-15',\n",
       " '2024-05-16',\n",
       " '2024-05-17',\n",
       " '2024-05-20',\n",
       " '2024-05-21',\n",
       " '2024-05-22',\n",
       " '2024-05-23',\n",
       " '2024-05-24']"
      ]
     },
     "execution_count": 8,
     "metadata": {},
     "output_type": "execute_result"
    }
   ],
   "source": [
    "\n",
    "for day, sample in zip(days, samples):\n",
    "    # Get market history at timestamp 9:05\n",
    "    ... "
   ]
  },
  {
   "cell_type": "code",
   "execution_count": null,
   "metadata": {},
   "outputs": [],
   "source": []
  }
 ],
 "metadata": {
  "kernelspec": {
   "display_name": "kalshi-bot-9g3T-37M-py3.11",
   "language": "python",
   "name": "python3"
  },
  "language_info": {
   "codemirror_mode": {
    "name": "ipython",
    "version": 3
   },
   "file_extension": ".py",
   "mimetype": "text/x-python",
   "name": "python",
   "nbconvert_exporter": "python",
   "pygments_lexer": "ipython3",
   "version": "3.11.2"
  },
  "orig_nbformat": 4
 },
 "nbformat": 4,
 "nbformat_minor": 2
}
