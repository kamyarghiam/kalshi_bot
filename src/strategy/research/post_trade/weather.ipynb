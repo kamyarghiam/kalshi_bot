{
 "cells": [
  {
   "cell_type": "code",
   "execution_count": 3,
   "metadata": {},
   "outputs": [],
   "source": [
    "from pathlib import Path\n",
    "import os\n",
    "def load_env_vars_from_file(path: Path):\n",
    "    file = path.read_text()\n",
    "    for line in file.splitlines():\n",
    "        if line.startswith(\"export\"):\n",
    "            var_to_value = line.split(\" \")[1].split(\"=\")\n",
    "            var_ = var_to_value[0]\n",
    "            value_ = var_to_value[1][1:-1]\n",
    "            os.environ[var_] = value_\n",
    "def set_up_prod_credentials():\n",
    "    file = \"../../../../scripts/prod_setup_creds.sh\"\n",
    "    load_env_vars_from_file(Path(file))\n",
    "set_up_prod_credentials()"
   ]
  },
  {
   "cell_type": "code",
   "execution_count": 4,
   "metadata": {},
   "outputs": [],
   "source": [
    "from exchange.interface import ExchangeInterface\n",
    "\n",
    "e = ExchangeInterface(is_test_run=False)\n",
    "ticker = \"HIGHMIA-24OCT05-T84\""
   ]
  },
  {
   "cell_type": "code",
   "execution_count": 8,
   "metadata": {},
   "outputs": [],
   "source": [
    "trades = list(e.get_trades(ticker))"
   ]
  },
  {
   "cell_type": "code",
   "execution_count": 9,
   "metadata": {},
   "outputs": [
    {
     "data": {
      "text/plain": [
       "[Trade(count=50, created_time=datetime.datetime(2024, 10, 5, 23, 57, 18, 225569, tzinfo=TzInfo(UTC)), no_price=1, yes_price=99, taker_side=<Side.YES: 'yes'>, ticker='HIGHMIA-24OCT05-T84'),\n",
       " Trade(count=25, created_time=datetime.datetime(2024, 10, 5, 23, 57, 18, 225569, tzinfo=TzInfo(UTC)), no_price=3, yes_price=97, taker_side=<Side.YES: 'yes'>, ticker='HIGHMIA-24OCT05-T84'),\n",
       " Trade(count=20, created_time=datetime.datetime(2024, 10, 5, 23, 57, 18, 225569, tzinfo=TzInfo(UTC)), no_price=2, yes_price=98, taker_side=<Side.YES: 'yes'>, ticker='HIGHMIA-24OCT05-T84'),\n",
       " Trade(count=3, created_time=datetime.datetime(2024, 10, 5, 21, 51, 25, 209463, tzinfo=TzInfo(UTC)), no_price=20, yes_price=80, taker_side=<Side.YES: 'yes'>, ticker='HIGHMIA-24OCT05-T84'),\n",
       " Trade(count=8, created_time=datetime.datetime(2024, 10, 5, 21, 51, 25, 209463, tzinfo=TzInfo(UTC)), no_price=20, yes_price=80, taker_side=<Side.YES: 'yes'>, ticker='HIGHMIA-24OCT05-T84'),\n",
       " Trade(count=20, created_time=datetime.datetime(2024, 10, 5, 21, 51, 25, 209463, tzinfo=TzInfo(UTC)), no_price=20, yes_price=80, taker_side=<Side.YES: 'yes'>, ticker='HIGHMIA-24OCT05-T84'),\n",
       " Trade(count=12, created_time=datetime.datetime(2024, 10, 5, 21, 24, 53, 535551, tzinfo=TzInfo(UTC)), no_price=20, yes_price=80, taker_side=<Side.YES: 'yes'>, ticker='HIGHMIA-24OCT05-T84'),\n",
       " Trade(count=23, created_time=datetime.datetime(2024, 10, 5, 20, 31, 1, 239453, tzinfo=TzInfo(UTC)), no_price=75, yes_price=25, taker_side=<Side.NO: 'no'>, ticker='HIGHMIA-24OCT05-T84'),\n",
       " Trade(count=2, created_time=datetime.datetime(2024, 10, 5, 19, 6, 33, 364544, tzinfo=TzInfo(UTC)), no_price=78, yes_price=22, taker_side=<Side.NO: 'no'>, ticker='HIGHMIA-24OCT05-T84'),\n",
       " Trade(count=14, created_time=datetime.datetime(2024, 10, 5, 17, 0, 45, 630289, tzinfo=TzInfo(UTC)), no_price=95, yes_price=5, taker_side=<Side.YES: 'yes'>, ticker='HIGHMIA-24OCT05-T84'),\n",
       " Trade(count=3, created_time=datetime.datetime(2024, 10, 5, 17, 0, 45, 630289, tzinfo=TzInfo(UTC)), no_price=95, yes_price=5, taker_side=<Side.YES: 'yes'>, ticker='HIGHMIA-24OCT05-T84'),\n",
       " Trade(count=20, created_time=datetime.datetime(2024, 10, 5, 17, 0, 45, 630289, tzinfo=TzInfo(UTC)), no_price=95, yes_price=5, taker_side=<Side.YES: 'yes'>, ticker='HIGHMIA-24OCT05-T84'),\n",
       " Trade(count=5, created_time=datetime.datetime(2024, 10, 5, 14, 30, 12, 451349, tzinfo=TzInfo(UTC)), no_price=99, yes_price=1, taker_side=<Side.NO: 'no'>, ticker='HIGHMIA-24OCT05-T84'),\n",
       " Trade(count=3, created_time=datetime.datetime(2024, 10, 5, 3, 57, 14, 27209, tzinfo=TzInfo(UTC)), no_price=99, yes_price=1, taker_side=<Side.NO: 'no'>, ticker='HIGHMIA-24OCT05-T84'),\n",
       " Trade(count=50, created_time=datetime.datetime(2024, 10, 5, 3, 57, 14, 27209, tzinfo=TzInfo(UTC)), no_price=99, yes_price=1, taker_side=<Side.NO: 'no'>, ticker='HIGHMIA-24OCT05-T84')]"
      ]
     },
     "execution_count": 9,
     "metadata": {},
     "output_type": "execute_result"
    }
   ],
   "source": [
    "trades"
   ]
  },
  {
   "cell_type": "code",
   "execution_count": null,
   "metadata": {},
   "outputs": [],
   "source": []
  }
 ],
 "metadata": {
  "kernelspec": {
   "display_name": "kalshi-bot-9g3T-37M-py3.11",
   "language": "python",
   "name": "python3"
  },
  "language_info": {
   "codemirror_mode": {
    "name": "ipython",
    "version": 3
   },
   "file_extension": ".py",
   "mimetype": "text/x-python",
   "name": "python",
   "nbconvert_exporter": "python",
   "pygments_lexer": "ipython3",
   "version": "3.11.2"
  }
 },
 "nbformat": 4,
 "nbformat_minor": 2
}
