{
 "cells": [
  {
   "cell_type": "code",
   "execution_count": 1,
   "metadata": {},
   "outputs": [],
   "source": [
    "from pathlib import Path\n",
    "import os\n",
    "def load_env_vars_from_file(path: Path):\n",
    "    file = path.read_text()\n",
    "    for line in file.splitlines():\n",
    "        if line.startswith(\"export\"):\n",
    "            var_to_value = line.split(\" \")[1].split(\"=\")\n",
    "            var_ = var_to_value[0]\n",
    "            value_ = var_to_value[1][1:-1]\n",
    "            os.environ[var_] = value_\n",
    "def set_up_prod_credentials():\n",
    "    file = \"../../../../scripts/prod_setup_creds.sh\"\n",
    "    load_env_vars_from_file(Path(file))\n",
    "set_up_prod_credentials()"
   ]
  },
  {
   "cell_type": "code",
   "execution_count": 2,
   "metadata": {},
   "outputs": [],
   "source": [
    "from exchange.interface import ExchangeInterface\n",
    "\n",
    "e = ExchangeInterface(is_test_run=False)"
   ]
  },
  {
   "cell_type": "code",
   "execution_count": 3,
   "metadata": {},
   "outputs": [],
   "source": [
    "from datetime import datetime\n",
    "from helpers.types.portfolio import GetFillsRequest\n",
    "\n",
    "\n",
    "fills = e.get_fills(GetFillsRequest(min_ts=int(datetime(2024, 9, 1).timestamp())))"
   ]
  },
  {
   "cell_type": "code",
   "execution_count": 5,
   "metadata": {},
   "outputs": [
    {
     "data": {
      "text/plain": [
       "OrderFill(action=<TradeType.SELL: 'sell'>, count=30, created_time=datetime.datetime(2024, 9, 18, 12, 44, 12, 964591, tzinfo=TzInfo(UTC)), is_taker=True, no_price=57, order_id='d404e238-248e-4fe8-a5b3-13c009518c39', side=<Side.NO: 'no'>, ticker='FED-24SEP-T5.00', trade_id='aa06cef0-ecda-4115-b8de-770daa3839d6', yes_price=43)"
      ]
     },
     "execution_count": 5,
     "metadata": {},
     "output_type": "execute_result"
    }
   ],
   "source": [
    "fills[0]"
   ]
  },
  {
   "cell_type": "code",
   "execution_count": 11,
   "metadata": {},
   "outputs": [],
   "source": [
    "from collections import defaultdict\n",
    "from dataclasses import dataclass\n",
    "\n",
    "from helpers.types.orders import Side, TradeType\n",
    "\n",
    "@dataclass\n",
    "class ProfitData():\n",
    "    positions: int = 0 \n",
    "    spent: int = 0 \n",
    "    made: int = 0 \n",
    "# From market ticker to position\n",
    "pd = defaultdict(lambda: ProfitData())\n",
    "\n",
    "for fill in fills:\n",
    "    if (fill.side == Side.YES and fill.action == TradeType.BUY) or (fill.side == Side.NO and fill.action == TradeType.SELL):\n",
    "        pd[fill.ticker].spent += (fill.yes_price) * (fill.count)\n",
    "        if pd[fill.ticker].positions * fill.count < 0:\n",
    "            pd[fill.ticker].made += fill.count\n",
    "        pd[fill.ticker].positions += fill.count\n",
    "    else:\n",
    "        pd[fill.ticker].spent += (fill.no_price) * (fill.count)\n",
    "        if pd[fill.ticker].positions * fill.count < 0:\n",
    "            pd[fill.ticker].made += fill.count\n",
    "        pd[fill.ticker].positions -= fill.count\n",
    "\n"
   ]
  },
  {
   "cell_type": "code",
   "execution_count": 12,
   "metadata": {},
   "outputs": [
    {
     "data": {
      "text/plain": [
       "defaultdict(<function __main__.<lambda>()>,\n",
       "            {'FED-24SEP-T5.00': ProfitData(positions=60, spent=4210, made=0),\n",
       "             'FEDRATEMIN-24DEC31-T4.50': ProfitData(positions=24, spent=670, made=0),\n",
       "             'HIGHNY-24SEP16-B77.5': ProfitData(positions=30, spent=3490, made=0),\n",
       "             'HIGHNY-24SEP16-B75.5': ProfitData(positions=10, spent=1474, made=0),\n",
       "             'HIGHNY-24SEP16-B73.5': ProfitData(positions=-10, spent=890, made=0),\n",
       "             'HIGHCHI-24SEP15-B89.5': ProfitData(positions=-10, spent=4710, made=40),\n",
       "             'HIGHNY-24SEP16-B79.5': ProfitData(positions=10, spent=1150, made=0),\n",
       "             'HIGHAUS-24SEP16-B99.5': ProfitData(positions=-10, spent=1700, made=10),\n",
       "             'HIGHAUS-24SEP16-B97.5': ProfitData(positions=0, spent=2040, made=0),\n",
       "             'OSCARNOMACTO-25-TC': ProfitData(positions=-10, spent=440, made=0),\n",
       "             'RTSPEAKNOEVIL-85': ProfitData(positions=0, spent=3570, made=40),\n",
       "             'MCSILENTHILL2-84': ProfitData(positions=-10, spent=590, made=0),\n",
       "             'HIGHCHI-24SEP16-B86.5': ProfitData(positions=-2, spent=112, made=0),\n",
       "             'BTCMAXY-24DEC31-80000': ProfitData(positions=-10, spent=700, made=0),\n",
       "             'BTCATH-24-DEC31-73265.12': ProfitData(positions=-20, spent=1140, made=10),\n",
       "             'DEBATES24-2': ProfitData(positions=10, spent=2353, made=0),\n",
       "             'FEDDECISION-24SEP-C25': ProfitData(positions=50, spent=8080, made=0),\n",
       "             'FEDDECISION-24SEP-C26': ProfitData(positions=-10, spent=2654, made=22),\n",
       "             'HIGHAUS-24SEP16-B95.5': ProfitData(positions=0, spent=2020, made=0),\n",
       "             'TROPSTORM-24DEC01-T15': ProfitData(positions=-10, spent=700, made=0),\n",
       "             'HIGHCHI-24SEP16-B84.5': ProfitData(positions=-20, spent=1730, made=10),\n",
       "             'HIGHCHI-24SEP16-T84': ProfitData(positions=-20, spent=1660, made=10),\n",
       "             'HIGHMIA-24SEP16-B90.5': ProfitData(positions=-30, spent=4230, made=60),\n",
       "             'TORNADO-24SEP-50': ProfitData(positions=10, spent=190, made=0),\n",
       "             'TORNADO-24SEP-25': ProfitData(positions=10, spent=600, made=0),\n",
       "             'HIGHAUS-24SEP15-B98.5': ProfitData(positions=-10, spent=4186, made=76),\n",
       "             'RAINNYCM-24SEP-2.5': ProfitData(positions=10, spent=460, made=0),\n",
       "             'RAINNYCM-24SEP-2': ProfitData(positions=10, spent=650, made=0),\n",
       "             'MORTGAGEDEF-24-Q3-1.75': ProfitData(positions=-10, spent=560, made=0),\n",
       "             '538APPROVE-24SEP18-B39.5': ProfitData(positions=-10, spent=770, made=0),\n",
       "             'HIGHMIA-24SEP16-T93': ProfitData(positions=-10, spent=870, made=0),\n",
       "             'HIGHCHI-24SEP16-B88.5': ProfitData(positions=-12, spent=792, made=10),\n",
       "             'GTEMP-24-1.02/23': ProfitData(positions=20, spent=1750, made=0),\n",
       "             'HIGHAUS-24SEP15-B96.5': ProfitData(positions=-10, spent=1680, made=10),\n",
       "             'RTTRANSFORMERSONE-90': ProfitData(positions=10, spent=520, made=0),\n",
       "             'HIGHMIA-24SEP15-B92.5': ProfitData(positions=9, spent=180, made=0),\n",
       "             'DEBATES24-3': ProfitData(positions=-10, spent=1098, made=4),\n",
       "             'HIGHNY-24SEP15-B79.5': ProfitData(positions=-10, spent=140, made=0),\n",
       "             'RTTRANSFORMERSONE-85': ProfitData(positions=-20, spent=360, made=10),\n",
       "             'HIGHCHI-24SEP16-B90.5': ProfitData(positions=-20, spent=1760, made=10),\n",
       "             '538APPROVEMAX-24SEP30-T43': ProfitData(positions=20, spent=300, made=0),\n",
       "             'RTJOKER2-55': ProfitData(positions=-40, spent=1090, made=20),\n",
       "             'RTJOKER2-60': ProfitData(positions=-20, spent=710, made=10),\n",
       "             'TSAW-24SEP15-A2.30': ProfitData(positions=-19, spent=190, made=9),\n",
       "             '538APPROVE-24SEP18-B40.0': ProfitData(positions=1, spent=1243, made=0),\n",
       "             'RATECUTCOUNT-24DEC31-T5': ProfitData(positions=-10, spent=720, made=0),\n",
       "             'HIGHCHI-24SEP15-B87.5': ProfitData(positions=-10, spent=2630, made=20),\n",
       "             'HIGHAUS-24SEP15-B100.5': ProfitData(positions=10, spent=358, made=0),\n",
       "             'HIGHMIA-24SEP15-B90.5': ProfitData(positions=10, spent=220, made=0),\n",
       "             'HIGHCHI-24SEP15-B85.5': ProfitData(positions=10, spent=140, made=0),\n",
       "             '538APPROVE-24SEP18-B41.0': ProfitData(positions=10, spent=320, made=0),\n",
       "             '538APPROVE-24SEP18-B41.5': ProfitData(positions=10, spent=120, made=0),\n",
       "             'HIGHNY-24SEP15-B77.5': ProfitData(positions=-11, spent=2919, made=10),\n",
       "             'RATECUTCOUNT-24DEC31-T3': ProfitData(positions=-10, spent=760, made=0),\n",
       "             'TSAW-24SEP15-A2.35': ProfitData(positions=-10, spent=560, made=0),\n",
       "             'RECSSNBER-25': ProfitData(positions=-640, spent=32362, made=630),\n",
       "             'SPACEXCOUNT-24-130': ProfitData(positions=-5, spent=240, made=0),\n",
       "             'OSCARNOMPIC-25-B': ProfitData(positions=-3, spent=117, made=0),\n",
       "             'RTTERRIFIER3-75': ProfitData(positions=-10, spent=340, made=0),\n",
       "             'PAYROLLS-24SEP-T142000': ProfitData(positions=-10, spent=380, made=0),\n",
       "             'HIGHNY-24SEP14-B84.5': ProfitData(positions=6, spent=2058, made=10),\n",
       "             'RTAGATHAALLALONG-85': ProfitData(positions=10, spent=300, made=0),\n",
       "             'HIGHAUS-24SEP14-B95.5': ProfitData(positions=10, spent=410, made=0),\n",
       "             'USTESTSMATH-24-SI': ProfitData(positions=5, spent=70, made=0),\n",
       "             'USTESTSMATH-24-NSD': ProfitData(positions=5, spent=100, made=0),\n",
       "             'USTESTSMATH-24-SD': ProfitData(positions=5, spent=355, made=0),\n",
       "             'HIGHNY-24SEP15-B81.5': ProfitData(positions=3, spent=45, made=0),\n",
       "             'HIGHMIA-24SEP15-T93': ProfitData(positions=3, spent=33, made=0),\n",
       "             'OSCARCOUNTDUNE2-4': ProfitData(positions=10, spent=140, made=0),\n",
       "             'OSCARCOUNTDUNE2-7': ProfitData(positions=10, spent=110, made=0),\n",
       "             'OSCARCOUNTDUNE2-3': ProfitData(positions=10, spent=330, made=0),\n",
       "             'HIGHAUS-24SEP14-B97.5': ProfitData(positions=12, spent=3314, made=10),\n",
       "             'HIGHNY-24SEP14-B82.5': ProfitData(positions=-48, spent=2850, made=68),\n",
       "             'HIGHAUS-24SEP14-B99.5': ProfitData(positions=10, spent=2682, made=0),\n",
       "             'HIGHCHI-24SEP14-B89.5': ProfitData(positions=0, spent=920, made=0),\n",
       "             'HIGHNY-24SEP14-B80.5': ProfitData(positions=9, spent=224, made=10),\n",
       "             'HIGHCHI-24SEP14-B87.5': ProfitData(positions=-10, spent=340, made=0),\n",
       "             'CMEATBAN-25-TN': ProfitData(positions=-4, spent=368, made=0),\n",
       "             'WTAX-25-DEC31': ProfitData(positions=-50, spent=4700, made=0),\n",
       "             'XCEOCHANGE-24DEC31': ProfitData(positions=-10, spent=710, made=0),\n",
       "             'NEWOUTBREAK-P-24': ProfitData(positions=-75, spent=6975, made=0),\n",
       "             'NYTOAISETTLE-24DEC31': ProfitData(positions=-51, spent=4182, made=0),\n",
       "             'SWITCH2-24': ProfitData(positions=-10, spent=400, made=0)})"
      ]
     },
     "execution_count": 12,
     "metadata": {},
     "output_type": "execute_result"
    }
   ],
   "source": [
    "pd"
   ]
  },
  {
   "cell_type": "code",
   "execution_count": null,
   "metadata": {},
   "outputs": [],
   "source": []
  }
 ],
 "metadata": {
  "kernelspec": {
   "display_name": "kalshi-bot-9g3T-37M-py3.11",
   "language": "python",
   "name": "python3"
  },
  "language_info": {
   "codemirror_mode": {
    "name": "ipython",
    "version": 3
   },
   "file_extension": ".py",
   "mimetype": "text/x-python",
   "name": "python",
   "nbconvert_exporter": "python",
   "pygments_lexer": "ipython3",
   "version": "3.11.2"
  }
 },
 "nbformat": 4,
 "nbformat_minor": 2
}
