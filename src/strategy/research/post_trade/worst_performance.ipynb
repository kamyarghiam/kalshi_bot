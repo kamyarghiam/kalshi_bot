{
 "cells": [
  {
   "cell_type": "code",
   "execution_count": 1,
   "metadata": {},
   "outputs": [],
   "source": [
    "from pathlib import Path\n",
    "import os\n",
    "def load_env_vars_from_file(path: Path):\n",
    "    file = path.read_text()\n",
    "    for line in file.splitlines():\n",
    "        if line.startswith(\"export\"):\n",
    "            var_to_value = line.split(\" \")[1].split(\"=\")\n",
    "            var_ = var_to_value[0]\n",
    "            value_ = var_to_value[1][1:-1]\n",
    "            os.environ[var_] = value_\n",
    "def set_up_prod_credentials():\n",
    "    file = \"../../../../scripts/prod_setup_creds.sh\"\n",
    "    load_env_vars_from_file(Path(file))\n",
    "set_up_prod_credentials()"
   ]
  },
  {
   "cell_type": "code",
   "execution_count": 2,
   "metadata": {},
   "outputs": [],
   "source": [
    "from exchange.interface import ExchangeInterface\n",
    "\n",
    "e = ExchangeInterface(is_test_run=False)"
   ]
  },
  {
   "cell_type": "code",
   "execution_count": 34,
   "metadata": {},
   "outputs": [],
   "source": [
    "from datetime import datetime\n",
    "from helpers.types.portfolio import GetFillsRequest\n",
    "import pytz\n",
    "start = datetime(2024, 10, 5).astimezone(pytz.UTC)\n",
    "fills = e.get_fills(GetFillsRequest(min_ts=int(start.timestamp())))"
   ]
  },
  {
   "cell_type": "code",
   "execution_count": 35,
   "metadata": {},
   "outputs": [],
   "source": [
    "fills.sort(key=lambda x: x.created_time)"
   ]
  },
  {
   "cell_type": "code",
   "execution_count": 36,
   "metadata": {},
   "outputs": [
    {
     "name": "stdout",
     "output_type": "stream",
     "text": [
      "taker fill:  BTCMINY-24DEC31-30000\n",
      "taker fill:  VINE-24\n",
      "taker fill:  OSCARNOMPIC-25-B\n",
      "taker fill:  SPACEXCOUNT-24-130\n",
      "taker fill:  BTCMAXY-24DEC31-80000\n",
      "taker fill:  RTTERRIFIER3-75\n",
      "taker fill:  OSCARNOMACTO-25-TC\n",
      "taker fill:  MORTGAGEDEF-24-Q3-1.75\n",
      "taker fill:  TROPSTORM-24DEC01-T15\n",
      "taker fill:  TROPSTORM-24DEC01-T15\n",
      "taker fill:  TROPSTORM-24DEC01-T15\n",
      "taker fill:  USTESTSMATH-24-SI\n",
      "taker fill:  USTESTSMATH-24-NSD\n",
      "taker fill:  USTESTSMATH-24-SD\n",
      "taker fill:  GOOGLECEOCHANGE-24\n",
      "taker fill:  BTCATH-24-DEC31-73265.12\n",
      "taker fill:  BTCATH-24-DEC31-73265.12\n",
      "taker fill:  DEBATES24-2\n",
      "taker fill:  DEBATES24-3\n",
      "taker fill:  RATECUTCOUNT-24DEC31-T3\n",
      "taker fill:  RATECUTCOUNT-24DEC31-T5\n",
      "taker fill:  GTEMP-24-1.02/23\n",
      "taker fill:  OSCARCOUNTDUNE2-3\n",
      "taker fill:  OSCARCOUNTDUNE2-4\n",
      "taker fill:  OSCARCOUNTDUNE2-7\n",
      "taker fill:  CPIYOY-24SEP-T2.3\n",
      "taker fill:  INX-24OCT10-B5787\n",
      "taker fill:  INX-24OCT10-B5787\n"
     ]
    }
   ],
   "source": [
    "from collections import defaultdict\n",
    "from dataclasses import dataclass\n",
    "\n",
    "from helpers.types.orders import Side, TradeType\n",
    "\n",
    "@dataclass\n",
    "class ProfitData():\n",
    "    positions: int = 0 \n",
    "    spent: int = 0 \n",
    "    made: int = 0 \n",
    "# From market ticker to position\n",
    "pd = defaultdict(lambda: ProfitData())\n",
    "# Had taker fills\n",
    "\n",
    "for fill in fills:\n",
    "    if fill.is_taker == True:\n",
    "        print(\"taker fill: \", fill.ticker)\n",
    "\n",
    "    if (fill.side == Side.YES and fill.action == TradeType.BUY) or (fill.side == Side.NO and fill.action == TradeType.SELL):\n",
    "        pd[fill.ticker].spent += (fill.yes_price) * (fill.count)\n",
    "        if pd[fill.ticker].positions < 0:\n",
    "            pd[fill.ticker].made += fill.count * 100\n",
    "        pd[fill.ticker].positions += fill.count\n",
    "    else:\n",
    "        pd[fill.ticker].spent += (fill.no_price) * (fill.count)\n",
    "        if pd[fill.ticker].positions > 0:\n",
    "            pd[fill.ticker].made += fill.count * 100\n",
    "        pd[fill.ticker].positions -= fill.count\n",
    "\n"
   ]
  },
  {
   "cell_type": "code",
   "execution_count": 37,
   "metadata": {},
   "outputs": [
    {
     "data": {
      "text/plain": [
       "defaultdict(<function __main__.<lambda>()>,\n",
       "            {'BTCMINY-24DEC31-30000': ProfitData(positions=-1, spent=89, made=0),\n",
       "             'VINE-24': ProfitData(positions=-2, spent=164, made=0),\n",
       "             'OSCARNOMPIC-25-B': ProfitData(positions=-3, spent=120, made=0),\n",
       "             'SPACEXCOUNT-24-130': ProfitData(positions=-5, spent=285, made=0),\n",
       "             'BTCMAXY-24DEC31-80000': ProfitData(positions=-10, spent=740, made=0),\n",
       "             'RTTERRIFIER3-75': ProfitData(positions=-10, spent=110, made=0),\n",
       "             'OSCARNOMACTO-25-TC': ProfitData(positions=-10, spent=370, made=0),\n",
       "             'MORTGAGEDEF-24-Q3-1.75': ProfitData(positions=-10, spent=490, made=0),\n",
       "             'TROPSTORM-24DEC01-T15': ProfitData(positions=-10, spent=258, made=0),\n",
       "             'USTESTSMATH-24-SI': ProfitData(positions=5, spent=65, made=0),\n",
       "             'USTESTSMATH-24-NSD': ProfitData(positions=5, spent=110, made=0),\n",
       "             'USTESTSMATH-24-SD': ProfitData(positions=5, spent=320, made=0),\n",
       "             'GOOGLECEOCHANGE-24': ProfitData(positions=20, spent=40, made=0),\n",
       "             'BTCATH-24-DEC31-73265.12': ProfitData(positions=-20, spent=1040, made=0),\n",
       "             'DEBATES24-2': ProfitData(positions=10, spent=870, made=0),\n",
       "             'DEBATES24-3': ProfitData(positions=-10, spent=870, made=0),\n",
       "             'RATECUTCOUNT-24DEC31-T3': ProfitData(positions=-10, spent=880, made=0),\n",
       "             'RATECUTCOUNT-24DEC31-T5': ProfitData(positions=-10, spent=860, made=0),\n",
       "             'GTEMP-24-1.02/23': ProfitData(positions=20, spent=1800, made=0),\n",
       "             'OSCARCOUNTDUNE2-3': ProfitData(positions=10, spent=320, made=0),\n",
       "             'OSCARCOUNTDUNE2-4': ProfitData(positions=10, spent=110, made=0),\n",
       "             'OSCARCOUNTDUNE2-7': ProfitData(positions=10, spent=100, made=0),\n",
       "             'HIGHMIA-24OCT05-T84': ProfitData(positions=-20, spent=400, made=0),\n",
       "             'HIGHAUS-24OCT05-B95.5': ProfitData(positions=20, spent=400, made=0),\n",
       "             'HIGHCHI-24OCT06-T75': ProfitData(positions=-20, spent=660, made=0),\n",
       "             'CPICOREYOY-24SEP-T3.3': ProfitData(positions=20, spent=300, made=0),\n",
       "             'CPICOREYOY-24SEP-T3.2': ProfitData(positions=20, spent=1140, made=0),\n",
       "             'CPIYOY-24SEP-T2.3': ProfitData(positions=-20, spent=860, made=0),\n",
       "             'CPI-24SEP-T0.1': ProfitData(positions=-20, spent=1520, made=0),\n",
       "             'BTCD-24OCT1017-T61999.99': ProfitData(positions=30, spent=320, made=0),\n",
       "             'NASDAQ100U-24OCT10-T20199.99': ProfitData(positions=-17, spent=1111, made=200),\n",
       "             'INX-24OCT10-B5787': ProfitData(positions=0, spent=4480, made=4000)})"
      ]
     },
     "execution_count": 37,
     "metadata": {},
     "output_type": "execute_result"
    }
   ],
   "source": [
    "pd"
   ]
  },
  {
   "cell_type": "code",
   "execution_count": 40,
   "metadata": {},
   "outputs": [
    {
     "name": "stdout",
     "output_type": "stream",
     "text": [
      "Had fills before start time:  BTCMINY-24DEC31-30000\n",
      "Had fills before start time:  VINE-24\n",
      "Had fills before start time:  OSCARNOMPIC-25-B\n",
      "Had fills before start time:  SPACEXCOUNT-24-130\n",
      "Had fills before start time:  BTCMAXY-24DEC31-80000\n",
      "Had fills before start time:  RTTERRIFIER3-75\n",
      "Had fills before start time:  OSCARNOMACTO-25-TC\n",
      "Had fills before start time:  MORTGAGEDEF-24-Q3-1.75\n",
      "Had fills before start time:  TROPSTORM-24DEC01-T15\n",
      "Had fills before start time:  USTESTSMATH-24-SI\n",
      "Had fills before start time:  USTESTSMATH-24-NSD\n",
      "Had fills before start time:  USTESTSMATH-24-SD\n",
      "Had fills before start time:  GOOGLECEOCHANGE-24\n",
      "Had fills before start time:  BTCATH-24-DEC31-73265.12\n",
      "Had fills before start time:  DEBATES24-2\n",
      "Had fills before start time:  DEBATES24-3\n",
      "Had fills before start time:  RATECUTCOUNT-24DEC31-T3\n",
      "Had fills before start time:  RATECUTCOUNT-24DEC31-T5\n",
      "404 Client Error: Not Found for url: https://trading-api.kalshi.com/trade-api/v2/markets/GTEMP-24-1.02/23\n",
      "Had fills before start time:  OSCARCOUNTDUNE2-3\n",
      "Had fills before start time:  OSCARCOUNTDUNE2-4\n",
      "Had fills before start time:  OSCARCOUNTDUNE2-7\n"
     ]
    }
   ],
   "source": [
    "\n",
    "from helpers.types.markets import MarketResult\n",
    "\n",
    "\n",
    "final_profit = dict()\n",
    "for ticker, data in pd.items():\n",
    "    profit = data.made - data.spent\n",
    "    if data.positions != 0:\n",
    "        try:\n",
    "            m = e.get_market(ticker)\n",
    "            fi = e.get_fills(GetFillsRequest(ticker=ticker))\n",
    "        except Exception as ex:\n",
    "            print(ex)\n",
    "            continue\n",
    "        fi.sort(key=lambda x: x.created_time)\n",
    "        # Dont consider this market if there were fills before the start time \n",
    "        if len(fi) > 0 and fi[0].created_time < start:\n",
    "            print('Had fills before start time: ', m.ticker)\n",
    "            continue\n",
    "        if m.result == MarketResult.NO:\n",
    "            if data.positions < 0:\n",
    "                profit += abs(data.positions) * 100\n",
    "        elif m.result == MarketResult.YES:\n",
    "            if data.positions > 0:\n",
    "                profit += abs(data.positions) * 100\n",
    "        else:\n",
    "            # This market has not settled yet\n",
    "            print('market not settled: ', m.ticker)\n",
    "            continue \n",
    "    final_profit[ticker] = profit\n"
   ]
  },
  {
   "cell_type": "code",
   "execution_count": 41,
   "metadata": {},
   "outputs": [
    {
     "data": {
      "text/plain": [
       "{'HIGHMIA-24OCT05-T84': -400,\n",
       " 'HIGHAUS-24OCT05-B95.5': -400,\n",
       " 'HIGHCHI-24OCT06-T75': 1340,\n",
       " 'CPICOREYOY-24SEP-T3.3': -300,\n",
       " 'CPICOREYOY-24SEP-T3.2': 860,\n",
       " 'CPIYOY-24SEP-T2.3': -860,\n",
       " 'CPI-24SEP-T0.1': -1520,\n",
       " 'BTCD-24OCT1017-T61999.99': -320,\n",
       " 'NASDAQ100U-24OCT10-T20199.99': -911,\n",
       " 'INX-24OCT10-B5787': -480}"
      ]
     },
     "execution_count": 41,
     "metadata": {},
     "output_type": "execute_result"
    }
   ],
   "source": [
    "final_profit"
   ]
  },
  {
   "cell_type": "code",
   "execution_count": 42,
   "metadata": {},
   "outputs": [
    {
     "data": {
      "text/plain": [
       "[('CPI-24SEP-T0.1', -1520),\n",
       " ('NASDAQ100U-24OCT10-T20199.99', -911),\n",
       " ('CPIYOY-24SEP-T2.3', -860),\n",
       " ('INX-24OCT10-B5787', -480),\n",
       " ('HIGHMIA-24OCT05-T84', -400),\n",
       " ('HIGHAUS-24OCT05-B95.5', -400),\n",
       " ('BTCD-24OCT1017-T61999.99', -320),\n",
       " ('CPICOREYOY-24SEP-T3.3', -300),\n",
       " ('CPICOREYOY-24SEP-T3.2', 860),\n",
       " ('HIGHCHI-24OCT06-T75', 1340)]"
      ]
     },
     "execution_count": 42,
     "metadata": {},
     "output_type": "execute_result"
    }
   ],
   "source": [
    "sorted(final_profit.items(), key=lambda x: x[1])"
   ]
  },
  {
   "cell_type": "code",
   "execution_count": 44,
   "metadata": {},
   "outputs": [],
   "source": [
    "fills = e.get_fills(GetFillsRequest(ticker=\"CPI-24SEP-T0.1\"))"
   ]
  },
  {
   "cell_type": "code",
   "execution_count": 45,
   "metadata": {},
   "outputs": [
    {
     "data": {
      "text/plain": [
       "[OrderFill(action=<TradeType.BUY: 'buy'>, count=20, created_time=datetime.datetime(2024, 10, 10, 12, 1, 0, 790778, tzinfo=TzInfo(UTC)), is_taker=False, no_price=76, order_id='d514d716-b602-4cea-91dc-c12b6375b996', side=<Side.NO: 'no'>, ticker='CPI-24SEP-T0.1', trade_id='f5344c94-cd96-48b4-8f5e-f7a97381e4ed', yes_price=24)]"
      ]
     },
     "execution_count": 45,
     "metadata": {},
     "output_type": "execute_result"
    }
   ],
   "source": [
    "fills"
   ]
  },
  {
   "cell_type": "code",
   "execution_count": null,
   "metadata": {},
   "outputs": [],
   "source": []
  }
 ],
 "metadata": {
  "kernelspec": {
   "display_name": "kalshi-bot-9g3T-37M-py3.11",
   "language": "python",
   "name": "python3"
  },
  "language_info": {
   "codemirror_mode": {
    "name": "ipython",
    "version": 3
   },
   "file_extension": ".py",
   "mimetype": "text/x-python",
   "name": "python",
   "nbconvert_exporter": "python",
   "pygments_lexer": "ipython3",
   "version": "3.11.2"
  }
 },
 "nbformat": 4,
 "nbformat_minor": 2
}
