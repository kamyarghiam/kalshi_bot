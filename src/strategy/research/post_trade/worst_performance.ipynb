{
 "cells": [
  {
   "cell_type": "code",
   "execution_count": 1,
   "metadata": {},
   "outputs": [],
   "source": [
    "from pathlib import Path\n",
    "import os\n",
    "def load_env_vars_from_file(path: Path):\n",
    "    file = path.read_text()\n",
    "    for line in file.splitlines():\n",
    "        if line.startswith(\"export\"):\n",
    "            var_to_value = line.split(\" \")[1].split(\"=\")\n",
    "            var_ = var_to_value[0]\n",
    "            value_ = var_to_value[1][1:-1]\n",
    "            os.environ[var_] = value_\n",
    "def set_up_prod_credentials():\n",
    "    file = \"../../../../scripts/prod_setup_creds.sh\"\n",
    "    load_env_vars_from_file(Path(file))\n",
    "set_up_prod_credentials()"
   ]
  },
  {
   "cell_type": "code",
   "execution_count": 2,
   "metadata": {},
   "outputs": [],
   "source": [
    "from exchange.interface import ExchangeInterface\n",
    "\n",
    "e = ExchangeInterface(is_test_run=False)"
   ]
  },
  {
   "cell_type": "code",
   "execution_count": 3,
   "metadata": {},
   "outputs": [],
   "source": [
    "from datetime import datetime\n",
    "from helpers.types.portfolio import GetFillsRequest\n",
    "import pytz\n",
    "start = datetime(2024, 10, 14).astimezone(pytz.UTC)\n",
    "fills = e.get_fills(GetFillsRequest(min_ts=int(start.timestamp())))"
   ]
  },
  {
   "cell_type": "code",
   "execution_count": 4,
   "metadata": {},
   "outputs": [],
   "source": [
    "fills.sort(key=lambda x: x.created_time)"
   ]
  },
  {
   "cell_type": "code",
   "execution_count": 11,
   "metadata": {},
   "outputs": [
    {
     "name": "stdout",
     "output_type": "stream",
     "text": [
      "action=<TradeType.BUY: 'buy'> count=20 created_time=datetime.datetime(2024, 10, 15, 15, 44, 9, 380708, tzinfo=TzInfo(UTC)) is_taker=False no_price=67 order_id='ce100a3d-ccf4-4228-bfb1-2cf97ec88c6d' side=<Side.NO: 'no'> ticker='HIGHAUS-24OCT15-B96.5' trade_id='07e06ca1-ce8d-4a37-b851-c589f7d9d974' yes_price=33\n",
      "ProfitData(positions=-20, spent=1340, made=0)\n",
      "taker fill:  HIGHAUS-24OCT15-B96.5\n",
      "action=<TradeType.BUY: 'buy'> count=40 created_time=datetime.datetime(2024, 10, 15, 15, 44, 28, 652606, tzinfo=TzInfo(UTC)) is_taker=True no_price=65 order_id='e57a5c61-0ff2-4dc9-b7af-706eb58f343f' side=<Side.YES: 'yes'> ticker='HIGHAUS-24OCT15-B96.5' trade_id='0f8c54c1-6fc1-4bfd-9f07-9259029ffd7c' yes_price=35\n",
      "ProfitData(positions=20, spent=2740, made=2000)\n",
      "action=<TradeType.BUY: 'buy'> count=15 created_time=datetime.datetime(2024, 10, 15, 15, 48, 31, 641392, tzinfo=TzInfo(UTC)) is_taker=False no_price=69 order_id='06c49c98-d734-46e1-a291-dab435eb9e7b' side=<Side.NO: 'no'> ticker='HIGHAUS-24OCT15-B96.5' trade_id='8f3917c3-e0d2-4f06-91d8-8de84244f1a6' yes_price=31\n",
      "ProfitData(positions=5, spent=3775, made=3500)\n",
      "action=<TradeType.BUY: 'buy'> count=13 created_time=datetime.datetime(2024, 10, 15, 18, 32, 36, 945222, tzinfo=TzInfo(UTC)) is_taker=False no_price=61 order_id='2a993df2-bfff-4acd-9c0f-454d67e496ac' side=<Side.NO: 'no'> ticker='HIGHAUS-24OCT15-B96.5' trade_id='66e923a3-5f03-42e0-9041-ba8d6a805dc9' yes_price=39\n",
      "ProfitData(positions=-8, spent=4568, made=4000)\n",
      "action=<TradeType.BUY: 'buy'> count=9 created_time=datetime.datetime(2024, 10, 15, 18, 37, 11, 971078, tzinfo=TzInfo(UTC)) is_taker=False no_price=61 order_id='2a993df2-bfff-4acd-9c0f-454d67e496ac' side=<Side.NO: 'no'> ticker='HIGHAUS-24OCT15-B96.5' trade_id='f24885b5-aeae-4c7e-b944-1602827ff7ce' yes_price=39\n",
      "ProfitData(positions=-17, spent=5117, made=4000)\n",
      "action=<TradeType.BUY: 'buy'> count=37 created_time=datetime.datetime(2024, 10, 15, 18, 42, 11, 323885, tzinfo=TzInfo(UTC)) is_taker=False no_price=79 order_id='c6fc4fd2-cebe-46b7-a619-9f4585482655' side=<Side.YES: 'yes'> ticker='HIGHAUS-24OCT15-B96.5' trade_id='c85ae079-db92-43ca-93b2-a6cc7d87ca11' yes_price=21\n",
      "ProfitData(positions=20, spent=5894, made=5700)\n"
     ]
    }
   ],
   "source": [
    "from collections import defaultdict\n",
    "from dataclasses import dataclass\n",
    "\n",
    "from helpers.types.orders import Side, TradeType\n",
    "\n",
    "@dataclass\n",
    "class ProfitData():\n",
    "    positions: int = 0 \n",
    "    spent: int = 0 \n",
    "    made: int = 0 \n",
    "# From market ticker to position\n",
    "pd = defaultdict(lambda: ProfitData())\n",
    "# Had taker fills\n",
    "\n",
    "for fill in fills:\n",
    "    if fill.is_taker == True:\n",
    "        print(\"taker fill: \", fill.ticker)\n",
    "\n",
    "    if (fill.side == Side.YES and fill.action == TradeType.BUY) or (fill.side == Side.NO and fill.action == TradeType.SELL):\n",
    "        pd[fill.ticker].spent += (fill.yes_price) * (fill.count)\n",
    "        if pd[fill.ticker].positions < 0:\n",
    "            pd[fill.ticker].made += min(fill.count, abs(pd[fill.ticker].positions))  * 100\n",
    "        pd[fill.ticker].positions += fill.count\n",
    "    else:\n",
    "        pd[fill.ticker].spent += (fill.no_price) * (fill.count)\n",
    "        if pd[fill.ticker].positions > 0:\n",
    "            pd[fill.ticker].made += min(fill.count, abs(pd[fill.ticker].positions)) * 100\n",
    "        pd[fill.ticker].positions -= fill.count\n",
    "\n"
   ]
  },
  {
   "cell_type": "code",
   "execution_count": 7,
   "metadata": {},
   "outputs": [
    {
     "data": {
      "text/plain": [
       "defaultdict(<function __main__.<lambda>()>,\n",
       "            {'HIGHCHI-24OCT15-B50.5': ProfitData(positions=-7, spent=5442, made=9300),\n",
       "             'HIGHNY-24OCT15-B58.5': ProfitData(positions=-20, spent=9148, made=12400),\n",
       "             'HIGHCHI-24OCT15-B48.5': ProfitData(positions=-3, spent=2582, made=2700),\n",
       "             'HIGHNY-24OCT15-B56.5': ProfitData(positions=0, spent=4305, made=6000),\n",
       "             'HIGHMIA-24OCT15-B86.5': ProfitData(positions=-12, spent=9333, made=18100),\n",
       "             'HIGHAUS-24OCT15-B96.5': ProfitData(positions=20, spent=5894, made=10500),\n",
       "             'HIGHAUS-24OCT15-B98.5': ProfitData(positions=-20, spent=3710, made=8200),\n",
       "             'INX-24OCT15-B5812': ProfitData(positions=-20, spent=1540, made=0),\n",
       "             'HIGHMIA-24OCT15-B88.5': ProfitData(positions=20, spent=640, made=0)})"
      ]
     },
     "execution_count": 7,
     "metadata": {},
     "output_type": "execute_result"
    }
   ],
   "source": [
    "pd"
   ]
  },
  {
   "cell_type": "code",
   "execution_count": 6,
   "metadata": {},
   "outputs": [],
   "source": [
    "\n",
    "from helpers.types.markets import MarketResult\n",
    "\n",
    "\n",
    "final_profit = dict()\n",
    "for ticker, data in pd.items():\n",
    "    profit = data.made - data.spent\n",
    "    if data.positions != 0:\n",
    "        try:\n",
    "            m = e.get_market(ticker)\n",
    "            fi = e.get_fills(GetFillsRequest(ticker=ticker))\n",
    "        except Exception as ex:\n",
    "            print(ex)\n",
    "            continue\n",
    "        fi.sort(key=lambda x: x.created_time)\n",
    "        # Dont consider this market if there were fills before the start time \n",
    "        if len(fi) > 0 and fi[0].created_time < start:\n",
    "            print('Had fills before start time: ', m.ticker)\n",
    "            continue\n",
    "        if m.result == MarketResult.NO:\n",
    "            if data.positions < 0:\n",
    "                profit += abs(data.positions) * 100\n",
    "        elif m.result == MarketResult.YES:\n",
    "            if data.positions > 0:\n",
    "                profit += abs(data.positions) * 100\n",
    "        else:\n",
    "            # This market has not settled yet\n",
    "            print('market not settled: ', m.ticker)\n",
    "            continue \n",
    "    final_profit[ticker] = profit\n"
   ]
  },
  {
   "cell_type": "code",
   "execution_count": 9,
   "metadata": {},
   "outputs": [
    {
     "data": {
      "text/plain": [
       "{'HIGHCHI-24OCT15-B50.5': 558,\n",
       " 'HIGHNY-24OCT15-B58.5': 852,\n",
       " 'HIGHCHI-24OCT15-B48.5': -382,\n",
       " 'HIGHNY-24OCT15-B56.5': -405,\n",
       " 'HIGHMIA-24OCT15-B86.5': -733,\n",
       " 'HIGHAUS-24OCT15-B96.5': -194,\n",
       " 'HIGHAUS-24OCT15-B98.5': 390,\n",
       " 'INX-24OCT15-B5812': -1540,\n",
       " 'HIGHMIA-24OCT15-B88.5': -640}"
      ]
     },
     "execution_count": 9,
     "metadata": {},
     "output_type": "execute_result"
    }
   ],
   "source": [
    "final_profit"
   ]
  },
  {
   "cell_type": "code",
   "execution_count": 8,
   "metadata": {},
   "outputs": [
    {
     "data": {
      "text/plain": [
       "[('INX-24OCT15-B5812', -1540),\n",
       " ('HIGHMIA-24OCT15-B86.5', -733),\n",
       " ('HIGHMIA-24OCT15-B88.5', -640),\n",
       " ('HIGHNY-24OCT15-B56.5', -405),\n",
       " ('HIGHCHI-24OCT15-B48.5', -382),\n",
       " ('HIGHAUS-24OCT15-B96.5', -194),\n",
       " ('HIGHAUS-24OCT15-B98.5', 390),\n",
       " ('HIGHCHI-24OCT15-B50.5', 558),\n",
       " ('HIGHNY-24OCT15-B58.5', 852)]"
      ]
     },
     "execution_count": 8,
     "metadata": {},
     "output_type": "execute_result"
    }
   ],
   "source": [
    "sorted(final_profit.items(), key=lambda x: x[1])"
   ]
  },
  {
   "cell_type": "code",
   "execution_count": 12,
   "metadata": {},
   "outputs": [
    {
     "data": {
      "text/plain": [
       "-2094"
      ]
     },
     "execution_count": 12,
     "metadata": {},
     "output_type": "execute_result"
    }
   ],
   "source": [
    "sum(final_profit.values())"
   ]
  },
  {
   "cell_type": "code",
   "execution_count": null,
   "metadata": {},
   "outputs": [],
   "source": []
  }
 ],
 "metadata": {
  "kernelspec": {
   "display_name": "kalshi-bot-9g3T-37M-py3.11",
   "language": "python",
   "name": "python3"
  },
  "language_info": {
   "codemirror_mode": {
    "name": "ipython",
    "version": 3
   },
   "file_extension": ".py",
   "mimetype": "text/x-python",
   "name": "python",
   "nbconvert_exporter": "python",
   "pygments_lexer": "ipython3",
   "version": "3.11.2"
  }
 },
 "nbformat": 4,
 "nbformat_minor": 2
}
