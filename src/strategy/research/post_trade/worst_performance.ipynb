{
 "cells": [
  {
   "cell_type": "code",
   "execution_count": 61,
   "metadata": {},
   "outputs": [],
   "source": [
    "from pathlib import Path\n",
    "import os\n",
    "def load_env_vars_from_file(path: Path):\n",
    "    file = path.read_text()\n",
    "    for line in file.splitlines():\n",
    "        if line.startswith(\"export\"):\n",
    "            var_to_value = line.split(\" \")[1].split(\"=\")\n",
    "            var_ = var_to_value[0]\n",
    "            value_ = var_to_value[1][1:-1]\n",
    "            os.environ[var_] = value_\n",
    "def set_up_prod_credentials():\n",
    "    file = \"../../../../scripts/prod_setup_creds.sh\"\n",
    "    load_env_vars_from_file(Path(file))\n",
    "set_up_prod_credentials()"
   ]
  },
  {
   "cell_type": "code",
   "execution_count": 62,
   "metadata": {},
   "outputs": [],
   "source": [
    "from exchange.interface import ExchangeInterface\n",
    "\n",
    "e = ExchangeInterface(is_test_run=False)"
   ]
  },
  {
   "cell_type": "code",
   "execution_count": 112,
   "metadata": {},
   "outputs": [],
   "source": [
    "from datetime import datetime\n",
    "from helpers.types.portfolio import GetFillsRequest\n",
    "import pytz\n",
    "start = datetime(2024, 9, 1).astimezone(pytz.UTC)\n",
    "fills = e.get_fills(GetFillsRequest(min_ts=int(start.timestamp())))"
   ]
  },
  {
   "cell_type": "code",
   "execution_count": 113,
   "metadata": {},
   "outputs": [
    {
     "data": {
      "text/plain": [
       "OrderFill(action=<TradeType.SELL: 'sell'>, count=30, created_time=datetime.datetime(2024, 9, 18, 12, 44, 12, 964591, tzinfo=TzInfo(UTC)), is_taker=True, no_price=57, order_id='d404e238-248e-4fe8-a5b3-13c009518c39', side=<Side.NO: 'no'>, ticker='FED-24SEP-T5.00', trade_id='aa06cef0-ecda-4115-b8de-770daa3839d6', yes_price=43)"
      ]
     },
     "execution_count": 113,
     "metadata": {},
     "output_type": "execute_result"
    }
   ],
   "source": [
    "fills[0]"
   ]
  },
  {
   "cell_type": "code",
   "execution_count": 114,
   "metadata": {},
   "outputs": [],
   "source": [
    "from collections import defaultdict\n",
    "from dataclasses import dataclass\n",
    "\n",
    "from helpers.types.orders import Side, TradeType\n",
    "\n",
    "@dataclass\n",
    "class ProfitData():\n",
    "    positions: int = 0 \n",
    "    spent: int = 0 \n",
    "    made: int = 0 \n",
    "# From market ticker to position\n",
    "pd = defaultdict(lambda: ProfitData())\n",
    "# Had maker fills\n",
    "maker_tickers = set()\n",
    "\n",
    "for fill in fills:\n",
    "    if fill.ticker in maker_tickers:\n",
    "        continue\n",
    "    if fill.is_taker == True:\n",
    "        if fill.ticker in pd:\n",
    "            del pd[fill.ticker]\n",
    "        maker_tickers.add(fill.ticker)\n",
    "        continue\n",
    "    # For some reason, the fill sides are backwards\n",
    "    side = fill.side if fill.action == TradeType.BUY else fill.side.get_other_side()\n",
    "    if (side == Side.YES and fill.action == TradeType.BUY) or (side == Side.NO and fill.action == TradeType.SELL):\n",
    "        pd[fill.ticker].spent += (fill.yes_price) * (fill.count)\n",
    "        if pd[fill.ticker].positions < 0:\n",
    "            pd[fill.ticker].made += fill.count * 100\n",
    "        pd[fill.ticker].positions += fill.count\n",
    "    else:\n",
    "        pd[fill.ticker].spent += (fill.no_price) * (fill.count)\n",
    "        if pd[fill.ticker].positions > 0:\n",
    "            pd[fill.ticker].made += fill.count * 100\n",
    "        pd[fill.ticker].positions -= fill.count\n",
    "\n"
   ]
  },
  {
   "cell_type": "code",
   "execution_count": 115,
   "metadata": {},
   "outputs": [
    {
     "data": {
      "text/plain": [
       "defaultdict(<function __main__.<lambda>()>,\n",
       "            {'HIGHNY-24SEP16-B75.5': ProfitData(positions=10, spent=1474, made=1000),\n",
       "             'HIGHNY-24SEP16-B73.5': ProfitData(positions=-10, spent=890, made=0),\n",
       "             'HIGHCHI-24SEP15-B89.5': ProfitData(positions=-10, spent=4710, made=4000),\n",
       "             'HIGHNY-24SEP16-B79.5': ProfitData(positions=10, spent=1150, made=1000),\n",
       "             'HIGHAUS-24SEP16-B99.5': ProfitData(positions=-10, spent=1700, made=1000),\n",
       "             'HIGHAUS-24SEP16-B97.5': ProfitData(positions=0, spent=2040, made=2000),\n",
       "             'OSCARNOMACTO-25-TC': ProfitData(positions=-10, spent=440, made=0),\n",
       "             'RTSPEAKNOEVIL-85': ProfitData(positions=0, spent=3570, made=5000),\n",
       "             'MCSILENTHILL2-84': ProfitData(positions=-10, spent=590, made=0),\n",
       "             'HIGHCHI-24SEP16-B86.5': ProfitData(positions=-2, spent=112, made=0),\n",
       "             'BTCMAXY-24DEC31-80000': ProfitData(positions=-10, spent=700, made=0),\n",
       "             'DEBATES24-2': ProfitData(positions=10, spent=2353, made=1700),\n",
       "             'FEDDECISION-24SEP-C25': ProfitData(positions=50, spent=8080, made=5000),\n",
       "             'FEDDECISION-24SEP-C26': ProfitData(positions=-10, spent=2654, made=2100),\n",
       "             'TROPSTORM-24DEC01-T15': ProfitData(positions=-10, spent=700, made=0),\n",
       "             'HIGHCHI-24SEP16-B84.5': ProfitData(positions=-20, spent=1730, made=0),\n",
       "             'HIGHCHI-24SEP16-T84': ProfitData(positions=-20, spent=1660, made=0),\n",
       "             'HIGHMIA-24SEP16-B90.5': ProfitData(positions=-30, spent=4230, made=2000),\n",
       "             'TORNADO-24SEP-50': ProfitData(positions=10, spent=190, made=0),\n",
       "             'TORNADO-24SEP-25': ProfitData(positions=10, spent=600, made=0),\n",
       "             'HIGHAUS-24SEP15-B98.5': ProfitData(positions=-10, spent=4186, made=4000),\n",
       "             'RAINNYCM-24SEP-2.5': ProfitData(positions=10, spent=460, made=0),\n",
       "             'RAINNYCM-24SEP-2': ProfitData(positions=10, spent=650, made=0),\n",
       "             'MORTGAGEDEF-24-Q3-1.75': ProfitData(positions=-10, spent=560, made=0),\n",
       "             '538APPROVE-24SEP18-B39.5': ProfitData(positions=-10, spent=770, made=0),\n",
       "             'HIGHMIA-24SEP16-T93': ProfitData(positions=-10, spent=870, made=0),\n",
       "             'HIGHCHI-24SEP16-B88.5': ProfitData(positions=-12, spent=792, made=0),\n",
       "             'GTEMP-24-1.02/23': ProfitData(positions=20, spent=1750, made=0),\n",
       "             'HIGHAUS-24SEP15-B96.5': ProfitData(positions=-10, spent=1680, made=1000),\n",
       "             'RTTRANSFORMERSONE-90': ProfitData(positions=10, spent=520, made=0),\n",
       "             'HIGHMIA-24SEP15-B92.5': ProfitData(positions=9, spent=180, made=0),\n",
       "             'DEBATES24-3': ProfitData(positions=-10, spent=1098, made=400),\n",
       "             'HIGHNY-24SEP15-B79.5': ProfitData(positions=-10, spent=140, made=0),\n",
       "             'RTTRANSFORMERSONE-85': ProfitData(positions=-20, spent=360, made=0),\n",
       "             'HIGHCHI-24SEP16-B90.5': ProfitData(positions=-20, spent=1760, made=0),\n",
       "             '538APPROVEMAX-24SEP30-T43': ProfitData(positions=20, spent=300, made=0),\n",
       "             'TSAW-24SEP15-A2.30': ProfitData(positions=-19, spent=190, made=0),\n",
       "             '538APPROVE-24SEP18-B40.0': ProfitData(positions=1, spent=1243, made=1000),\n",
       "             'RATECUTCOUNT-24DEC31-T5': ProfitData(positions=-10, spent=720, made=0),\n",
       "             'HIGHCHI-24SEP15-B87.5': ProfitData(positions=-10, spent=2630, made=2000),\n",
       "             'HIGHAUS-24SEP15-B100.5': ProfitData(positions=10, spent=358, made=0),\n",
       "             'HIGHMIA-24SEP15-B90.5': ProfitData(positions=10, spent=220, made=0),\n",
       "             'HIGHCHI-24SEP15-B85.5': ProfitData(positions=10, spent=140, made=0),\n",
       "             '538APPROVE-24SEP18-B41.0': ProfitData(positions=10, spent=320, made=0),\n",
       "             '538APPROVE-24SEP18-B41.5': ProfitData(positions=10, spent=120, made=0),\n",
       "             'RATECUTCOUNT-24DEC31-T3': ProfitData(positions=-10, spent=760, made=0),\n",
       "             'TSAW-24SEP15-A2.35': ProfitData(positions=-10, spent=560, made=0),\n",
       "             'SPACEXCOUNT-24-130': ProfitData(positions=-5, spent=240, made=0),\n",
       "             'OSCARNOMPIC-25-B': ProfitData(positions=-3, spent=117, made=0),\n",
       "             'RTTERRIFIER3-75': ProfitData(positions=-10, spent=340, made=0),\n",
       "             'PAYROLLS-24SEP-T142000': ProfitData(positions=-10, spent=380, made=0),\n",
       "             'HIGHNY-24SEP14-B84.5': ProfitData(positions=20, spent=2576, made=2300),\n",
       "             'RTAGATHAALLALONG-85': ProfitData(positions=10, spent=300, made=0),\n",
       "             'HIGHAUS-24SEP14-B95.5': ProfitData(positions=10, spent=410, made=0),\n",
       "             'USTESTSMATH-24-SI': ProfitData(positions=5, spent=70, made=0),\n",
       "             'USTESTSMATH-24-NSD': ProfitData(positions=5, spent=100, made=0),\n",
       "             'USTESTSMATH-24-SD': ProfitData(positions=5, spent=355, made=0),\n",
       "             'HIGHNY-24SEP15-B81.5': ProfitData(positions=3, spent=45, made=0),\n",
       "             'HIGHMIA-24SEP15-T93': ProfitData(positions=3, spent=33, made=0),\n",
       "             'OSCARCOUNTDUNE2-4': ProfitData(positions=10, spent=140, made=0),\n",
       "             'OSCARCOUNTDUNE2-3': ProfitData(positions=10, spent=330, made=0),\n",
       "             'HIGHNY-24SEP14-B82.5': ProfitData(positions=-8, spent=3990, made=6700),\n",
       "             'HIGHAUS-24SEP14-B99.5': ProfitData(positions=10, spent=2682, made=2300),\n",
       "             'HIGHCHI-24SEP14-B89.5': ProfitData(positions=0, spent=920, made=1000),\n",
       "             'HIGHNY-24SEP14-B80.5': ProfitData(positions=9, spent=224, made=1000),\n",
       "             'HIGHCHI-24SEP14-B87.5': ProfitData(positions=-10, spent=340, made=0)})"
      ]
     },
     "execution_count": 115,
     "metadata": {},
     "output_type": "execute_result"
    }
   ],
   "source": [
    "pd"
   ]
  },
  {
   "cell_type": "code",
   "execution_count": 116,
   "metadata": {},
   "outputs": [
    {
     "name": "stdout",
     "output_type": "stream",
     "text": [
      "404 Client Error: Not Found for url: https://trading-api.kalshi.com/trade-api/v2/markets/GTEMP-24-1.02/23\n"
     ]
    }
   ],
   "source": [
    "\n",
    "from helpers.types.markets import MarketResult\n",
    "\n",
    "\n",
    "final_profit = dict()\n",
    "for ticker, data in pd.items():\n",
    "    profit = data.made - data.spent\n",
    "    if data.positions != 0:\n",
    "        try:\n",
    "            m = e.get_market(ticker)\n",
    "            fi = e.get_fills(GetFillsRequest(ticker=ticker))\n",
    "        except Exception as ex:\n",
    "            print(ex)\n",
    "            continue\n",
    "        fi.sort(key=lambda x: x.created_time)\n",
    "        # Dont consider this market if there were fills before the start time \n",
    "        if len(fi) > 0 and fi[0].created_time < start:\n",
    "            continue\n",
    "        if m.result == MarketResult.NO and data.positions < 0:\n",
    "            profit += abs(data.positions) * 100\n",
    "        elif m.result == MarketResult.YES and data.positions > 0:\n",
    "            profit += abs(data.positions) * 100\n",
    "        else:\n",
    "            # This market has not settled yet\n",
    "            continue \n",
    "    final_profit[ticker] = profit\n"
   ]
  },
  {
   "cell_type": "code",
   "execution_count": 117,
   "metadata": {},
   "outputs": [
    {
     "data": {
      "text/plain": [
       "{'HIGHNY-24SEP16-B73.5': 110,\n",
       " 'HIGHAUS-24SEP16-B99.5': 300,\n",
       " 'HIGHAUS-24SEP16-B97.5': -40,\n",
       " 'RTSPEAKNOEVIL-85': 1430,\n",
       " 'HIGHCHI-24SEP16-B86.5': 88,\n",
       " 'HIGHCHI-24SEP16-B84.5': 270,\n",
       " 'HIGHCHI-24SEP16-T84': 340,\n",
       " 'HIGHMIA-24SEP16-B90.5': 770,\n",
       " 'TORNADO-24SEP-50': 810,\n",
       " 'TORNADO-24SEP-25': 400,\n",
       " 'HIGHCHI-24SEP16-B88.5': 408,\n",
       " 'HIGHAUS-24SEP15-B96.5': 320,\n",
       " 'HIGHCHI-24SEP15-B87.5': 370,\n",
       " 'HIGHMIA-24SEP15-B90.5': 780,\n",
       " 'TSAW-24SEP15-A2.35': 440,\n",
       " 'HIGHCHI-24SEP14-B89.5': 80}"
      ]
     },
     "execution_count": 117,
     "metadata": {},
     "output_type": "execute_result"
    }
   ],
   "source": [
    "final_profit"
   ]
  },
  {
   "cell_type": "code",
   "execution_count": 118,
   "metadata": {},
   "outputs": [
    {
     "data": {
      "text/plain": [
       "[('HIGHAUS-24SEP16-B97.5', -40),\n",
       " ('HIGHCHI-24SEP14-B89.5', 80),\n",
       " ('HIGHCHI-24SEP16-B86.5', 88),\n",
       " ('HIGHNY-24SEP16-B73.5', 110),\n",
       " ('HIGHCHI-24SEP16-B84.5', 270),\n",
       " ('HIGHAUS-24SEP16-B99.5', 300),\n",
       " ('HIGHAUS-24SEP15-B96.5', 320),\n",
       " ('HIGHCHI-24SEP16-T84', 340),\n",
       " ('HIGHCHI-24SEP15-B87.5', 370),\n",
       " ('TORNADO-24SEP-25', 400),\n",
       " ('HIGHCHI-24SEP16-B88.5', 408),\n",
       " ('TSAW-24SEP15-A2.35', 440),\n",
       " ('HIGHMIA-24SEP16-B90.5', 770),\n",
       " ('HIGHMIA-24SEP15-B90.5', 780),\n",
       " ('TORNADO-24SEP-50', 810),\n",
       " ('RTSPEAKNOEVIL-85', 1430)]"
      ]
     },
     "execution_count": 118,
     "metadata": {},
     "output_type": "execute_result"
    }
   ],
   "source": [
    "sorted(final_profit.items(), key=lambda x: x[1])"
   ]
  },
  {
   "cell_type": "markdown",
   "metadata": {},
   "source": [
    "[('RECSSNBER-25', -32362),\n",
    " ('NEWOUTBREAK-P-24', -6975),\n",
    " ('WTAX-25-DEC31', -4700),\n",
    " ('NYTOAISETTLE-24DEC31', -4182),\n",
    " ('FED-24SEP-T5.00', -3210),\n",
    " ('FEDDECISION-24SEP-C25', -3080),\n",
    " ('HIGHCHI-24SEP16-B90.5', -1760),\n",
    " ('HIGHNY-24SEP14-B82.5', -1450),\n",
    " ('BTCATH-24-DEC31-73265.12', -1140),\n",
    " ('RTJOKER2-55', -1090),\n",
    " ('HIGHMIA-24SEP16-T93', -870),\n",
    " ('538APPROVE-24SEP18-B39.5', -770),\n",
    " ('RATECUTCOUNT-24DEC31-T3', -760),\n",
    " ('RATECUTCOUNT-24DEC31-T5', -720),\n",
    " ('HIGHCHI-24SEP15-B89.5', -710),\n",
    " ('RTJOKER2-60', -710),\n",
    " ('XCEOCHANGE-24DEC31', -710),\n",
    " ('BTCMAXY-24DEC31-80000', -700),\n",
    " ('TROPSTORM-24DEC01-T15', -700),\n",
    " ('DEBATES24-3', -698),\n",
    " ('FEDRATEMIN-24DEC31-T4.50', -670),\n",
    " ('DEBATES24-2', -653),\n",
    " ('RAINNYCM-24SEP-2', -650),\n",
    " ('MCSILENTHILL2-84', -590),\n",
    " ('MORTGAGEDEF-24-Q3-1.75', -560),\n",
    " ('FEDDECISION-24SEP-C26', -554),\n",
    " ('RTTRANSFORMERSONE-90', -520),\n",
    " ('HIGHNY-24SEP16-B75.5', -474),\n",
    " ('RAINNYCM-24SEP-2.5', -460),\n",
    " ('OSCARNOMACTO-25-TC', -440),\n",
    " ('HIGHAUS-24SEP14-B95.5', -410),\n",
    " ('SWITCH2-24', -400),\n",
    " ('HIGHAUS-24SEP14-B99.5', -382),\n",
    " ('PAYROLLS-24SEP-T142000', -380),\n",
    " ('CMEATBAN-25-TN', -368),\n",
    " ('RTTRANSFORMERSONE-85', -360),\n",
    " ('HIGHAUS-24SEP15-B100.5', -358),\n",
    " ('USTESTSMATH-24-SD', -355),\n",
    " ('RTTERRIFIER3-75', -340),\n",
    " ('HIGHCHI-24SEP14-B87.5', -340),\n",
    " ('OSCARCOUNTDUNE2-3', -330),\n",
    " ('538APPROVE-24SEP18-B41.0', -320),\n",
    " ('538APPROVEMAX-24SEP30-T43', -300),\n",
    " ('RTAGATHAALLALONG-85', -300),\n",
    " ('538APPROVE-24SEP18-B40.0', -243),\n",
    " ('SPACEXCOUNT-24-130', -240),\n",
    " ('TSAW-24SEP15-A2.30', -190),\n",
    " ('HIGHAUS-24SEP15-B98.5', -186),\n",
    " ('HIGHMIA-24SEP15-B92.5', -180),\n",
    " ('HIGHNY-24SEP16-B79.5', -150),\n",
    " ('HIGHNY-24SEP15-B79.5', -140),\n",
    " ('HIGHCHI-24SEP15-B85.5', -140),\n",
    " ('OSCARCOUNTDUNE2-4', -140),\n",
    " ('538APPROVE-24SEP18-B41.5', -120),\n",
    " ('OSCARNOMPIC-25-B', -117),\n",
    " ('OSCARCOUNTDUNE2-7', -110),\n",
    " ('USTESTSMATH-24-NSD', -100),\n",
    " ('USTESTSMATH-24-SI', -70),\n",
    " ('HIGHNY-24SEP15-B81.5', -45),\n",
    " ('HIGHAUS-24SEP16-B97.5', -40),\n",
    " ('HIGHMIA-24SEP15-T93', -33),\n",
    " ('HIGHAUS-24SEP16-B95.5', -20),\n",
    " ('HIGHCHI-24SEP14-B89.5', 80),\n",
    " ('HIGHCHI-24SEP16-B86.5', 88),\n",
    " ('HIGHNY-24SEP16-B73.5', 110),\n",
    " ('HIGHCHI-24SEP16-B84.5', 270),\n",
    " ('HIGHAUS-24SEP16-B99.5', 300),\n",
    " ('HIGHAUS-24SEP15-B96.5', 320),\n",
    " ('HIGHCHI-24SEP16-T84', 340),\n",
    " ('HIGHCHI-24SEP15-B87.5', 370),\n",
    " ('HIGHNY-24SEP15-B77.5', 381),\n",
    " ('TORNADO-24SEP-25', 400),\n",
    " ('HIGHCHI-24SEP16-B88.5', 408),\n",
    " ('TSAW-24SEP15-A2.35', 440),\n",
    " ('HIGHMIA-24SEP16-B90.5', 770),\n",
    " ('HIGHNY-24SEP14-B80.5', 776),\n",
    " ('HIGHMIA-24SEP15-B90.5', 780),\n",
    " ('TORNADO-24SEP-50', 810),\n",
    " ('RTSPEAKNOEVIL-85', 1430),\n",
    " ('HIGHNY-24SEP16-B77.5', 1510),\n",
    " ('HIGHAUS-24SEP14-B97.5', 1586),\n",
    " ('HIGHNY-24SEP14-B84.5', 1942)]"
   ]
  },
  {
   "cell_type": "code",
   "execution_count": 119,
   "metadata": {},
   "outputs": [],
   "source": [
    "f = list(e.get_fills(GetFillsRequest(ticker=\"HIGHAUS-24SEP16-B97.5\")))"
   ]
  },
  {
   "cell_type": "code",
   "execution_count": 120,
   "metadata": {},
   "outputs": [],
   "source": [
    "f = sorted(f, key = lambda x: x.created_time)"
   ]
  },
  {
   "cell_type": "code",
   "execution_count": 121,
   "metadata": {},
   "outputs": [
    {
     "name": "stdout",
     "output_type": "stream",
     "text": [
      "TradeType.BUY Side.NO 10 46¢ 54¢ action=<TradeType.BUY: 'buy'> count=10 created_time=datetime.datetime(2024, 9, 15, 19, 7, 52, 204196, tzinfo=TzInfo(UTC)) is_taker=False no_price=54 order_id='51e2eba8-5258-452f-b9c3-2039e2d829f9' side=<Side.NO: 'no'> ticker='HIGHAUS-24SEP16-B97.5' trade_id='daa433eb-a67c-45a2-91ea-36a51c308272' yes_price=46\n",
      "TradeType.BUY Side.NO 10 48¢ 52¢ action=<TradeType.BUY: 'buy'> count=10 created_time=datetime.datetime(2024, 9, 15, 20, 40, 39, 327849, tzinfo=TzInfo(UTC)) is_taker=False no_price=52 order_id='2484c971-6024-4d3e-8816-de5281d9fcfb' side=<Side.NO: 'no'> ticker='HIGHAUS-24SEP16-B97.5' trade_id='69de4e1e-6330-44df-80ad-a7ec6ea8beab' yes_price=48\n",
      "TradeType.BUY Side.YES 20 49¢ 51¢ action=<TradeType.BUY: 'buy'> count=20 created_time=datetime.datetime(2024, 9, 15, 21, 36, 32, 668990, tzinfo=TzInfo(UTC)) is_taker=False no_price=51 order_id='9d11570a-6b1a-4cbc-8ad9-511e300b32f6' side=<Side.YES: 'yes'> ticker='HIGHAUS-24SEP16-B97.5' trade_id='d8b9c399-2da1-4778-b488-b9d0eb0f51f0' yes_price=49\n"
     ]
    }
   ],
   "source": [
    "for fill in f:\n",
    "    print(fill.action, fill.side, fill.count, fill.yes_price, fill.no_price, fill)"
   ]
  },
  {
   "cell_type": "code",
   "execution_count": 36,
   "metadata": {},
   "outputs": [
    {
     "data": {
      "text/plain": [
       "ProfitData(positions=-75, spent=6975, made=0)"
      ]
     },
     "execution_count": 36,
     "metadata": {},
     "output_type": "execute_result"
    }
   ],
   "source": [
    "pd['NEWOUTBREAK-P-24']"
   ]
  },
  {
   "cell_type": "code",
   "execution_count": 38,
   "metadata": {},
   "outputs": [
    {
     "data": {
      "text/plain": [
       "[OrderFill(action=<TradeType.BUY: 'buy'>, count=82, created_time=datetime.datetime(2024, 6, 11, 21, 14, 0, 570088, tzinfo=TzInfo(UTC)), is_taker=False, no_price=89, order_id='5b8b2f5f-39bd-43e3-aabc-abd5db10f905', side=<Side.YES: 'yes'>, ticker='NEWOUTBREAK-P-24', trade_id='b5aea985-44eb-48d1-83c2-c23e5deb7ffc', yes_price=11),\n",
       " OrderFill(action=<TradeType.SELL: 'sell'>, count=7, created_time=datetime.datetime(2024, 6, 12, 21, 22, 45, 315828, tzinfo=TzInfo(UTC)), is_taker=False, no_price=88, order_id='4438650c-fc54-4e9a-96d9-0958d9c3998a', side=<Side.NO: 'no'>, ticker='NEWOUTBREAK-P-24', trade_id='9861fb08-de7b-4fcc-a099-718946bae841', yes_price=12),\n",
       " OrderFill(action=<TradeType.SELL: 'sell'>, count=15, created_time=datetime.datetime(2024, 6, 17, 22, 42, 22, 636111, tzinfo=TzInfo(UTC)), is_taker=False, no_price=88, order_id='4438650c-fc54-4e9a-96d9-0958d9c3998a', side=<Side.NO: 'no'>, ticker='NEWOUTBREAK-P-24', trade_id='42de1b32-cf0a-4221-8413-e3e837bb1a32', yes_price=12),\n",
       " OrderFill(action=<TradeType.SELL: 'sell'>, count=15, created_time=datetime.datetime(2024, 6, 19, 18, 19, 36, 534408, tzinfo=TzInfo(UTC)), is_taker=False, no_price=88, order_id='4438650c-fc54-4e9a-96d9-0958d9c3998a', side=<Side.NO: 'no'>, ticker='NEWOUTBREAK-P-24', trade_id='49db7730-b891-4921-81d2-1de25e6838e8', yes_price=12),\n",
       " OrderFill(action=<TradeType.SELL: 'sell'>, count=75, created_time=datetime.datetime(2024, 6, 19, 20, 18, 58, 821980, tzinfo=TzInfo(UTC)), is_taker=False, no_price=88, order_id='21a27d2d-4833-4115-8a3a-f3347c20bf15', side=<Side.NO: 'no'>, ticker='NEWOUTBREAK-P-24', trade_id='da34a6fb-58a0-46ea-8afa-022c93b0066f', yes_price=12),\n",
       " OrderFill(action=<TradeType.SELL: 'sell'>, count=45, created_time=datetime.datetime(2024, 6, 19, 20, 18, 58, 821980, tzinfo=TzInfo(UTC)), is_taker=False, no_price=88, order_id='4438650c-fc54-4e9a-96d9-0958d9c3998a', side=<Side.NO: 'no'>, ticker='NEWOUTBREAK-P-24', trade_id='09df019d-247a-40fe-b33a-bfbaa283e8f3', yes_price=12),\n",
       " OrderFill(action=<TradeType.SELL: 'sell'>, count=75, created_time=datetime.datetime(2024, 9, 13, 21, 41, 46, 673945, tzinfo=TzInfo(UTC)), is_taker=True, no_price=93, order_id='2c768ff5-d44a-454f-a879-41ea6aba21ee', side=<Side.YES: 'yes'>, ticker='NEWOUTBREAK-P-24', trade_id='33a3e112-ccf0-4fd9-a9ce-8d3655d38d6d', yes_price=7)]"
      ]
     },
     "execution_count": 38,
     "metadata": {},
     "output_type": "execute_result"
    }
   ],
   "source": [
    "fills"
   ]
  },
  {
   "cell_type": "code",
   "execution_count": null,
   "metadata": {},
   "outputs": [],
   "source": []
  }
 ],
 "metadata": {
  "kernelspec": {
   "display_name": "kalshi-bot-9g3T-37M-py3.11",
   "language": "python",
   "name": "python3"
  },
  "language_info": {
   "codemirror_mode": {
    "name": "ipython",
    "version": 3
   },
   "file_extension": ".py",
   "mimetype": "text/x-python",
   "name": "python",
   "nbconvert_exporter": "python",
   "pygments_lexer": "ipython3",
   "version": "3.11.2"
  }
 },
 "nbformat": 4,
 "nbformat_minor": 2
}
