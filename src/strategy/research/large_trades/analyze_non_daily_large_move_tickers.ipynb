{
 "cells": [
  {
   "attachments": {},
   "cell_type": "markdown",
   "metadata": {},
   "source": [
    "The purpose of this notebook is to analyze the movement of the daily markets with large movements"
   ]
  },
  {
   "cell_type": "code",
   "execution_count": 1,
   "metadata": {},
   "outputs": [],
   "source": [
    "from pathlib import Path\n",
    "import os\n",
    "def load_env_vars_from_file(path: Path):\n",
    "    file = path.read_text()\n",
    "    for line in file.splitlines():\n",
    "        if line.startswith(\"export\"):\n",
    "            var_to_value = line.split(\" \")[1].split(\"=\")\n",
    "            var_ = var_to_value[0]\n",
    "            value_ = var_to_value[1][1:-1]\n",
    "            os.environ[var_] = value_\n",
    "def set_up_prod_credentials():\n",
    "    file = \"../../../../scripts/prod_setup_creds.sh\"\n",
    "    load_env_vars_from_file(Path(file))\n",
    "set_up_prod_credentials()"
   ]
  },
  {
   "cell_type": "code",
   "execution_count": 11,
   "metadata": {},
   "outputs": [],
   "source": [
    "from pathlib import Path\n",
    "import matplotlib.pyplot as plt \n",
    "from data.coledb.coledb import ColeDBInterface\n",
    "from exchange.interface import ExchangeInterface\n",
    "\n",
    "db = ColeDBInterface()\n",
    "e = ExchangeInterface(is_test_run=False)\n",
    "def plotter():\n",
    "    for ticker in Path(\"raw_tickers_with_large_movements.txt\").read_text().splitlines():\n",
    "        df = db.read_bbo_df(ticker)\n",
    "        trades = list(e.get_trades(ticker))\n",
    "        trade_ts = [t.created_time.timestamp() for t in trades]\n",
    "        trade_price = [t.yes_price for t in trades]\n",
    "        trade_quantity = [t.count for t in trades]\n",
    "        trade_side = [t.taker_side for t in trades]\n",
    "        plt.scatter(df.ts, df.yes_bid_price, c = \"blue\")\n",
    "        plt.scatter(df.ts, df.yes_ask_price, c = \"orange\")\n",
    "        plt.scatter(trade_ts, trade_price, c=\"green\")\n",
    "\n",
    "        for i in range(len(trade_ts)):\n",
    "            plt.text(\n",
    "                trade_ts[i],\n",
    "                trade_price[i] * 1.001,\n",
    "                f\"{trade_side[i].value} {trade_quantity[i]}\",\n",
    "                fontsize=9,\n",
    "            )\n",
    "        for i in range(len(df)):\n",
    "            plt.text(\n",
    "                df.iloc[i].ts,\n",
    "                df.iloc[i].yes_ask_price,\n",
    "                f\"{df.iloc[i].yes_ask_qty}\",\n",
    "                fontsize=9,\n",
    "            )\n",
    "            plt.text(\n",
    "                df.iloc[i].ts,\n",
    "                df.iloc[i].yes_bid_price,\n",
    "                f\"{df.iloc[i].yes_bid_qty}\",\n",
    "                fontsize=9,\n",
    "            )\n",
    "        plt.show()\n",
    "        yield\n",
    "        \n"
   ]
  },
  {
   "cell_type": "code",
   "execution_count": 12,
   "metadata": {},
   "outputs": [],
   "source": [
    "gen = plotter()"
   ]
  },
  {
   "cell_type": "code",
   "execution_count": 13,
   "metadata": {},
   "outputs": [
    {
     "name": "stdout",
     "output_type": "stream",
     "text": [
      "10 10\n"
     ]
    },
    {
     "data": {
      "image/png": "[encoded data removed]",
      "text/plain": [
       "<Figure size 640x480 with 1 Axes>"
      ]
     },
     "metadata": {},
     "output_type": "display_data"
    }
   ],
   "source": [
    "next(gen)"
   ]
  }
 ],
 "metadata": {
  "kernelspec": {
   "display_name": "kalshi-bot-9g3T-37M-py3.11",
   "language": "python",
   "name": "python3"
  },
  "language_info": {
   "codemirror_mode": {
    "name": "ipython",
    "version": 3
   },
   "file_extension": ".py",
   "mimetype": "text/x-python",
   "name": "python",
   "nbconvert_exporter": "python",
   "pygments_lexer": "ipython3",
   "version": "3.11.2"
  },
  "orig_nbformat": 4
 },
 "nbformat": 4,
 "nbformat_minor": 2
}
