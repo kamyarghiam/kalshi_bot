{
 "cells": [
  {
   "cell_type": "code",
   "execution_count": 32,
   "metadata": {},
   "outputs": [],
   "source": [
    "import pytz \n",
    "import pandas as pd \n",
    "from datetime import datetime, timedelta\n",
    "from datetime import time as datetime_time\n",
    "from helpers.constants import LOCAL_STORAGE_FOLDER\n",
    "from sklearn.preprocessing import MinMaxScaler\n",
    "\n",
    "normalize = False \n",
    "filename = \"sep12.csv\"\n",
    "# Clean and normalize es data. Normalize means to put it between 0 and 1\n",
    "utc_tz = pytz.timezone(\"UTC\")\n",
    "eastern_tz = pytz.timezone(\"US/Eastern\")\n",
    "df = pd.read_csv(LOCAL_STORAGE_FOLDER / f\"es_data/{filename}\", skiprows=2000000, nrows=1000000)\n",
    "day_of_data = (\n",
    "    pd.to_datetime(df.iloc[0][\"ts_recv\"], unit=\"ns\")\n",
    "    .tz_localize(utc_tz)\n",
    "    .tz_convert(eastern_tz)\n",
    ")\n",
    "\n",
    "market_open = datetime_time(9, 30)\n",
    "market_open_full_datetime_ns = (\n",
    "    datetime.combine(day_of_data.date(), market_open)\n",
    "    .astimezone(pytz.timezone(\"US/Eastern\"))\n",
    "    .timestamp()\n",
    ") * 1e9\n",
    "market_close = datetime_time(16, 0)\n",
    "market_close_full_datetime_ns = (\n",
    "    datetime.combine(day_of_data.date(), market_close)\n",
    "    .astimezone(pytz.timezone(\"US/Eastern\"))\n",
    "    .timestamp()\n",
    ") * 1e9\n",
    "\n",
    "df1 = df[\n",
    "    (market_open_full_datetime_ns <= df[\"ts_recv\"])\n",
    "    & (df[\"ts_recv\"] <= market_close_full_datetime_ns)\n",
    "]\n",
    "df2 = df1[df1[\"action\"] == \"F\"]\n",
    "columns_to_keep = [\"ts_recv\", \"price\"]\n",
    "df3 = df2[columns_to_keep]\n",
    "df3[\"ts_recv\"] = pd.to_datetime(df3[\"ts_recv\"], unit=\"ns\")\n",
    "high = df3[\"price\"].quantile(0.95)\n",
    "low = df3[\"price\"].quantile(0.05)\n",
    "df4 = df3[(df3[\"price\"] < high) & (df3[\"price\"] > low)]\n",
    "if normalize:\n",
    "    scaler = MinMaxScaler()\n",
    "    df4[\"price\"] = scaler.fit_transform(df4[[\"price\"]])\n",
    "df4[\"ts_recv\"] = df4[\"ts_recv\"].apply(\n",
    "    lambda time: time.tz_localize(utc_tz).tz_convert(eastern_tz)\n",
    ")\n"
   ]
  },
  {
   "cell_type": "code",
   "execution_count": 42,
   "metadata": {},
   "outputs": [
    {
     "data": {
      "text/plain": [
       "1694494800059424547"
      ]
     },
     "execution_count": 42,
     "metadata": {},
     "output_type": "execute_result"
    }
   ],
   "source": [
    "df.ts_recv.min()"
   ]
  },
  {
   "cell_type": "code",
   "execution_count": 41,
   "metadata": {},
   "outputs": [
    {
     "data": {
      "text/plain": [
       "False"
      ]
     },
     "execution_count": 41,
     "metadata": {},
     "output_type": "execute_result"
    }
   ],
   "source": [
    "1694525400000000000 < 1694508357409140443"
   ]
  },
  {
   "cell_type": "code",
   "execution_count": null,
   "metadata": {},
   "outputs": [],
   "source": []
  }
 ],
 "metadata": {
  "kernelspec": {
   "display_name": "kalshi-bot-9g3T-37M-py3.11",
   "language": "python",
   "name": "python3"
  },
  "language_info": {
   "codemirror_mode": {
    "name": "ipython",
    "version": 3
   },
   "file_extension": ".py",
   "mimetype": "text/x-python",
   "name": "python",
   "nbconvert_exporter": "python",
   "pygments_lexer": "ipython3",
   "version": "3.11.2"
  },
  "orig_nbformat": 4
 },
 "nbformat": 4,
 "nbformat_minor": 2
}
