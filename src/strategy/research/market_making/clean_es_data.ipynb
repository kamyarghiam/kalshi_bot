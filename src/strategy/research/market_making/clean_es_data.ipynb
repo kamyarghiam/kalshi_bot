{
 "cells": [
  {
   "cell_type": "code",
   "execution_count": 8,
   "metadata": {},
   "outputs": [
    {
     "name": "stderr",
     "output_type": "stream",
     "text": [
      "/var/folders/bq/3lxf2pcx7s9crrr7kqds7d_00000gn/T/ipykernel_20799/1151860720.py:40: SettingWithCopyWarning: \n",
      "A value is trying to be set on a copy of a slice from a DataFrame.\n",
      "Try using .loc[row_indexer,col_indexer] = value instead\n",
      "\n",
      "See the caveats in the documentation: https://pandas.pydata.org/pandas-docs/stable/user_guide/indexing.html#returning-a-view-versus-a-copy\n",
      "  df3[\"ts_recv\"] = pd.to_datetime(df3[\"ts_recv\"], unit=\"ns\")\n",
      "/var/folders/bq/3lxf2pcx7s9crrr7kqds7d_00000gn/T/ipykernel_20799/1151860720.py:47: SettingWithCopyWarning: \n",
      "A value is trying to be set on a copy of a slice from a DataFrame.\n",
      "Try using .loc[row_indexer,col_indexer] = value instead\n",
      "\n",
      "See the caveats in the documentation: https://pandas.pydata.org/pandas-docs/stable/user_guide/indexing.html#returning-a-view-versus-a-copy\n",
      "  df4[\"ts_recv\"] = df4[\"ts_recv\"].apply(\n"
     ]
    }
   ],
   "source": [
    "import pytz \n",
    "import pandas as pd \n",
    "from datetime import datetime, timedelta\n",
    "from datetime import time as datetime_time\n",
    "from helpers.constants import LOCAL_STORAGE_FOLDER\n",
    "from sklearn.preprocessing import MinMaxScaler\n",
    "\n",
    "normalize = False \n",
    "filename = \"sep14.csv\"\n",
    "# Clean and normalize es data. Normalize means to put it between 0 and 1\n",
    "utc_tz = pytz.timezone(\"UTC\")\n",
    "eastern_tz = pytz.timezone(\"US/Eastern\")\n",
    "df = pd.read_csv(LOCAL_STORAGE_FOLDER / f\"spy_data/{filename}\")\n",
    "day_of_data = (\n",
    "    pd.to_datetime(df.iloc[0][\"ts_recv\"], unit=\"ns\")\n",
    "    .tz_localize(utc_tz)\n",
    "    .tz_convert(eastern_tz)\n",
    ")\n",
    "\n",
    "market_open = datetime_time(9, 30)\n",
    "market_open_full_datetime_ns = (\n",
    "    datetime.combine(day_of_data.date(), market_open)\n",
    "    .astimezone(pytz.timezone(\"US/Eastern\"))\n",
    "    .timestamp()\n",
    ") * 1e9\n",
    "market_close = datetime_time(16, 0)\n",
    "market_close_full_datetime_ns = (\n",
    "    datetime.combine(day_of_data.date(), market_close)\n",
    "    .astimezone(pytz.timezone(\"US/Eastern\"))\n",
    "    .timestamp()\n",
    ") * 1e9\n",
    "\n",
    "df1 = df[\n",
    "    (market_open_full_datetime_ns <= df[\"ts_recv\"])\n",
    "    & (df[\"ts_recv\"] <= market_close_full_datetime_ns)\n",
    "]\n",
    "df2 = df1[df1[\"action\"] == \"T\"]\n",
    "columns_to_keep = [\"ts_recv\", \"price\"]\n",
    "df3 = df2[columns_to_keep]\n",
    "df3[\"ts_recv\"] = pd.to_datetime(df3[\"ts_recv\"], unit=\"ns\")\n",
    "high = df3[\"price\"].quantile(0.99)\n",
    "low = df3[\"price\"].quantile(0.01)\n",
    "df4 = df3[(df3[\"price\"] < high) & (df3[\"price\"] > low)]\n",
    "if normalize:\n",
    "    scaler = MinMaxScaler()\n",
    "    df4[\"price\"] = scaler.fit_transform(df4[[\"price\"]])\n",
    "df4[\"ts_recv\"] = df4[\"ts_recv\"].apply(\n",
    "    lambda time: time.tz_localize(utc_tz).tz_convert(eastern_tz)\n",
    ")\n"
   ]
  },
  {
   "cell_type": "code",
   "execution_count": 13,
   "metadata": {},
   "outputs": [
    {
     "data": {
      "image/png": "[encoded data removed]",
      "text/plain": [
       "<Figure size 640x480 with 1 Axes>"
      ]
     },
     "metadata": {},
     "output_type": "display_data"
    }
   ],
   "source": [
    "\n",
    "# looks like ES doesnt move between bands that often \n",
    "import matplotlib.pyplot as plt\n",
    "plt.scatter(df4[\"ts_recv\"], df4[\"price\"])\n",
    "plt.axhline(y = 447_500_000_000, color = 'r')\n",
    "plt.axhline(y = 450_000_000_000, color = 'r')\n",
    "plt.axhline(y = 452_500_000_000, color = 'r')\n",
    "plt.show()"
   ]
  },
  {
   "cell_type": "code",
   "execution_count": 41,
   "metadata": {},
   "outputs": [
    {
     "data": {
      "text/plain": [
       "False"
      ]
     },
     "execution_count": 41,
     "metadata": {},
     "output_type": "execute_result"
    }
   ],
   "source": []
  },
  {
   "cell_type": "code",
   "execution_count": null,
   "metadata": {},
   "outputs": [],
   "source": []
  }
 ],
 "metadata": {
  "kernelspec": {
   "display_name": "kalshi-bot-9g3T-37M-py3.11",
   "language": "python",
   "name": "python3"
  },
  "language_info": {
   "codemirror_mode": {
    "name": "ipython",
    "version": 3
   },
   "file_extension": ".py",
   "mimetype": "text/x-python",
   "name": "python",
   "nbconvert_exporter": "python",
   "pygments_lexer": "ipython3",
   "version": "3.11.2"
  },
  "orig_nbformat": 4
 },
 "nbformat": 4,
 "nbformat_minor": 2
}
