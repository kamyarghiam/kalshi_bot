{
 "cells": [
  {
   "cell_type": "code",
   "execution_count": 1,
   "metadata": {},
   "outputs": [],
   "source": [
    "from strategy.match_spy import MatchSpy\n",
    "from strategy.utils import HistoricalObservationSetCursor\n",
    "from strategy.features.base.kalshi import daily_spy_range_kalshi_markets, weekly_spy_range_kalshi_markets\n",
    "from strategy.features.base.spy import hist_spy_feature\n",
    "from strategy.sim.active_ioc import ActiveIOCStrategySimulator\n",
    "from data.coledb.coledb import ColeDBInterface, ColeDBCursor"
   ]
  },
  {
   "cell_type": "code",
   "execution_count": 2,
   "metadata": {},
   "outputs": [],
   "source": [
    "import pathlib\n",
    "import datetime\n",
    "\n",
    "import pandas as pd\n",
    "\n",
    "from helpers.types.money import Price\n",
    "from helpers.types.orders import Quantity\n",
    "from strategy.features.base.kalshi import weekly_spy_range_kalshi_markets\n",
    "\n",
    "es_file = pathlib.Path(\"../../../../es_data/sep12.csv\")\n",
    "# I need a day both with ES and with kalshi INXD data. \n",
    "# We, surprisingly, don't have one :(. \n",
    "# While not perfect, we could settle for testing on an INXW (weekly) contract. \n",
    "# Sep 12 is the same week as Sep 15 2023. \n",
    "\n",
    "date = datetime.date(year=2023, month=9, day=15)\n",
    "day_start = datetime.datetime.combine(date=date, time=datetime.time.min)\n",
    "day_end = datetime.datetime.combine(date=date, time=datetime.time.max)\n",
    "\n",
    "spy_cursor = hist_spy_feature(es_file=es_file)\n",
    "kalshi_spy_markets = weekly_spy_range_kalshi_markets(date=date)\n",
    "reload = False\n",
    "if reload:\n",
    "    historical_features = HistoricalObservationSetCursor.from_observation_streams(feature_streams=[spy_cursor])\n",
    "    historical_features.save(path=pathlib.Path(\"./match_spy.csv\"))\n",
    "else:\n",
    "    historical_features = HistoricalObservationSetCursor.load(path=pathlib.Path(\"./match_spy.csv\"))\n"
   ]
  },
  {
   "cell_type": "code",
   "execution_count": 3,
   "metadata": {},
   "outputs": [
    {
     "name": "stderr",
     "output_type": "stream",
     "text": [
      "Calculating strategy orders:  64%|██████▍   | 238415/371017 [00:52<00:29, 4566.42it/s]\n"
     ]
    },
    {
     "ename": "KeyboardInterrupt",
     "evalue": "",
     "output_type": "error",
     "traceback": [
      "\u001b[0;31m---------------------------------------------------------------------------\u001b[0m",
      "\u001b[0;31mKeyboardInterrupt\u001b[0m                         Traceback (most recent call last)",
      "\u001b[1;32m/home/jroper/Documents/Projects/kalshi_bot/src/strategy/research/market_making/match_spy.ipynb Cell 3\u001b[0m line \u001b[0;36m8\n\u001b[1;32m      <a href='vscode-notebook-cell:/home/jroper/Documents/Projects/kalshi_bot/src/strategy/research/market_making/match_spy.ipynb#W2sZmlsZQ%3D%3D?line=5'>6</a>\u001b[0m kalshi_orderbook_updates \u001b[39m=\u001b[39m ColeDBInterface()\u001b[39m.\u001b[39mread_cursor(ticker\u001b[39m=\u001b[39mm\u001b[39m.\u001b[39mticker, start_ts\u001b[39m=\u001b[39mday_start, end_ts\u001b[39m=\u001b[39mday_end)\n\u001b[1;32m      <a href='vscode-notebook-cell:/home/jroper/Documents/Projects/kalshi_bot/src/strategy/research/market_making/match_spy.ipynb#W2sZmlsZQ%3D%3D?line=6'>7</a>\u001b[0m sim \u001b[39m=\u001b[39m ActiveIOCStrategySimulator(kalshi_orderbook_updates\u001b[39m=\u001b[39mkalshi_orderbook_updates, historical_data\u001b[39m=\u001b[39mhistorical_features)\n\u001b[0;32m----> <a href='vscode-notebook-cell:/home/jroper/Documents/Projects/kalshi_bot/src/strategy/research/market_making/match_spy.ipynb#W2sZmlsZQ%3D%3D?line=7'>8</a>\u001b[0m result \u001b[39m=\u001b[39m sim\u001b[39m.\u001b[39;49mrun(strategy\u001b[39m=\u001b[39;49mstrategy)\n\u001b[1;32m      <a href='vscode-notebook-cell:/home/jroper/Documents/Projects/kalshi_bot/src/strategy/research/market_making/match_spy.ipynb#W2sZmlsZQ%3D%3D?line=8'>9</a>\u001b[0m histories\u001b[39m.\u001b[39mappend(result)\n\u001b[1;32m     <a href='vscode-notebook-cell:/home/jroper/Documents/Projects/kalshi_bot/src/strategy/research/market_making/match_spy.ipynb#W2sZmlsZQ%3D%3D?line=9'>10</a>\u001b[0m \u001b[39mprint\u001b[39m(result\u001b[39m.\u001b[39mpnl)\n",
      "File \u001b[0;32m~/Documents/Projects/kalshi_bot/src/strategy/sim/active_ioc.py:61\u001b[0m, in \u001b[0;36mActiveIOCStrategySimulator.run\u001b[0;34m(self, strategy)\u001b[0m\n\u001b[1;32m     59\u001b[0m \u001b[39mif\u001b[39;00m \u001b[39mself\u001b[39m\u001b[39m.\u001b[39mpretty:\n\u001b[1;32m     60\u001b[0m     hist_iter \u001b[39m=\u001b[39m tqdm\u001b[39m.\u001b[39mtqdm(hist_iter, desc\u001b[39m=\u001b[39m\u001b[39m\"\u001b[39m\u001b[39mCalculating strategy orders\u001b[39m\u001b[39m\"\u001b[39m)\n\u001b[0;32m---> 61\u001b[0m orders_requested \u001b[39m=\u001b[39m \u001b[39mlist\u001b[39;49m(\n\u001b[1;32m     62\u001b[0m     itertools\u001b[39m.\u001b[39;49mchain\u001b[39m.\u001b[39;49mfrom_iterable(\n\u001b[1;32m     63\u001b[0m         strategy\u001b[39m.\u001b[39;49mconsume_next_step(update\u001b[39m=\u001b[39;49mupdate)\n\u001b[1;32m     64\u001b[0m         \u001b[39mfor\u001b[39;49;00m update \u001b[39min\u001b[39;49;00m hist_iter\n\u001b[1;32m     65\u001b[0m     )\n\u001b[1;32m     66\u001b[0m )\n\u001b[1;32m     67\u001b[0m orders_requested\u001b[39m.\u001b[39msort(key\u001b[39m=\u001b[39m\u001b[39mlambda\u001b[39;00m order: order\u001b[39m.\u001b[39mtime_placed)\n\u001b[1;32m     68\u001b[0m last_orderbook: Orderbook \u001b[39m=\u001b[39m \u001b[39mnext\u001b[39m(\u001b[39miter\u001b[39m(\u001b[39mself\u001b[39m\u001b[39m.\u001b[39mkalshi_orderbook_updates))\n",
      "File \u001b[0;32m~/Documents/Projects/kalshi_bot/src/strategy/sim/active_ioc.py:62\u001b[0m, in \u001b[0;36m<genexpr>\u001b[0;34m(.0)\u001b[0m\n\u001b[1;32m     59\u001b[0m \u001b[39mif\u001b[39;00m \u001b[39mself\u001b[39m\u001b[39m.\u001b[39mpretty:\n\u001b[1;32m     60\u001b[0m     hist_iter \u001b[39m=\u001b[39m tqdm\u001b[39m.\u001b[39mtqdm(hist_iter, desc\u001b[39m=\u001b[39m\u001b[39m\"\u001b[39m\u001b[39mCalculating strategy orders\u001b[39m\u001b[39m\"\u001b[39m)\n\u001b[1;32m     61\u001b[0m orders_requested \u001b[39m=\u001b[39m \u001b[39mlist\u001b[39m(\n\u001b[0;32m---> 62\u001b[0m     itertools\u001b[39m.\u001b[39mchain\u001b[39m.\u001b[39mfrom_iterable(\n\u001b[1;32m     63\u001b[0m         strategy\u001b[39m.\u001b[39;49mconsume_next_step(update\u001b[39m=\u001b[39;49mupdate)\n\u001b[1;32m     64\u001b[0m         \u001b[39mfor\u001b[39;49;00m update \u001b[39min\u001b[39;49;00m hist_iter\n\u001b[1;32m     65\u001b[0m     )\n\u001b[1;32m     66\u001b[0m )\n\u001b[1;32m     67\u001b[0m orders_requested\u001b[39m.\u001b[39msort(key\u001b[39m=\u001b[39m\u001b[39mlambda\u001b[39;00m order: order\u001b[39m.\u001b[39mtime_placed)\n\u001b[1;32m     68\u001b[0m last_orderbook: Orderbook \u001b[39m=\u001b[39m \u001b[39mnext\u001b[39m(\u001b[39miter\u001b[39m(\u001b[39mself\u001b[39m\u001b[39m.\u001b[39mkalshi_orderbook_updates))\n",
      "File \u001b[0;32m~/Documents/Projects/kalshi_bot/.venv/lib/python3.11/site-packages/tqdm/std.py:1182\u001b[0m, in \u001b[0;36mtqdm.__iter__\u001b[0;34m(self)\u001b[0m\n\u001b[1;32m   1179\u001b[0m time \u001b[39m=\u001b[39m \u001b[39mself\u001b[39m\u001b[39m.\u001b[39m_time\n\u001b[1;32m   1181\u001b[0m \u001b[39mtry\u001b[39;00m:\n\u001b[0;32m-> 1182\u001b[0m     \u001b[39mfor\u001b[39;49;00m obj \u001b[39min\u001b[39;49;00m iterable:\n\u001b[1;32m   1183\u001b[0m         \u001b[39myield\u001b[39;49;00m obj\n\u001b[1;32m   1184\u001b[0m         \u001b[39m# Update and possibly print the progressbar.\u001b[39;49;00m\n\u001b[1;32m   1185\u001b[0m         \u001b[39m# Note: does not call self.update(1) for speed optimisation.\u001b[39;49;00m\n",
      "File \u001b[0;32m~/Documents/Projects/kalshi_bot/src/strategy/utils.py:201\u001b[0m, in \u001b[0;36mHistoricalObservationSetCursor.__iter__\u001b[0;34m(self)\u001b[0m\n\u001b[1;32m    200\u001b[0m \u001b[39mdef\u001b[39;00m \u001b[39m__iter__\u001b[39m(\u001b[39mself\u001b[39m) \u001b[39m-\u001b[39m\u001b[39m>\u001b[39m Generator[ObservationSet, \u001b[39mNone\u001b[39;00m, \u001b[39mNone\u001b[39;00m]:\n\u001b[0;32m--> 201\u001b[0m     \u001b[39mfor\u001b[39;49;00m _, row \u001b[39min\u001b[39;49;00m \u001b[39mself\u001b[39;49m\u001b[39m.\u001b[39;49mdf\u001b[39m.\u001b[39;49miterrows():\n\u001b[1;32m    202\u001b[0m         \u001b[39myield\u001b[39;49;00m ObservationSet(\n\u001b[1;32m    203\u001b[0m             series\u001b[39m=\u001b[39;49mrow,\n\u001b[1;32m    204\u001b[0m             feature_observation_time_keys\u001b[39m=\u001b[39;49m\u001b[39mself\u001b[39;49m\u001b[39m.\u001b[39;49mfeature_observation_time_keys,\n\u001b[1;32m    205\u001b[0m         )\n",
      "File \u001b[0;32m~/Documents/Projects/kalshi_bot/.venv/lib/python3.11/site-packages/pandas/core/frame.py:1453\u001b[0m, in \u001b[0;36mDataFrame.iterrows\u001b[0;34m(self)\u001b[0m\n\u001b[1;32m   1451\u001b[0m using_cow \u001b[39m=\u001b[39m using_copy_on_write()\n\u001b[1;32m   1452\u001b[0m \u001b[39mfor\u001b[39;00m k, v \u001b[39min\u001b[39;00m \u001b[39mzip\u001b[39m(\u001b[39mself\u001b[39m\u001b[39m.\u001b[39mindex, \u001b[39mself\u001b[39m\u001b[39m.\u001b[39mvalues):\n\u001b[0;32m-> 1453\u001b[0m     s \u001b[39m=\u001b[39m klass(v, index\u001b[39m=\u001b[39;49mcolumns, name\u001b[39m=\u001b[39;49mk)\u001b[39m.\u001b[39m__finalize__(\u001b[39mself\u001b[39m)\n\u001b[1;32m   1454\u001b[0m     \u001b[39mif\u001b[39;00m using_cow \u001b[39mand\u001b[39;00m \u001b[39mself\u001b[39m\u001b[39m.\u001b[39m_mgr\u001b[39m.\u001b[39mis_single_block:\n\u001b[1;32m   1455\u001b[0m         s\u001b[39m.\u001b[39m_mgr\u001b[39m.\u001b[39madd_references(\u001b[39mself\u001b[39m\u001b[39m.\u001b[39m_mgr)  \u001b[39m# type: ignore[arg-type]\u001b[39;00m\n",
      "File \u001b[0;32m~/Documents/Projects/kalshi_bot/.venv/lib/python3.11/site-packages/pandas/core/series.py:512\u001b[0m, in \u001b[0;36mSeries.__init__\u001b[0;34m(self, data, index, dtype, name, copy, fastpath)\u001b[0m\n\u001b[1;32m    510\u001b[0m         data \u001b[39m=\u001b[39m data\u001b[39m.\u001b[39mcopy()\n\u001b[1;32m    511\u001b[0m \u001b[39melse\u001b[39;00m:\n\u001b[0;32m--> 512\u001b[0m     data \u001b[39m=\u001b[39m sanitize_array(data, index, dtype, copy)\n\u001b[1;32m    514\u001b[0m     manager \u001b[39m=\u001b[39m get_option(\u001b[39m\"\u001b[39m\u001b[39mmode.data_manager\u001b[39m\u001b[39m\"\u001b[39m)\n\u001b[1;32m    515\u001b[0m     \u001b[39mif\u001b[39;00m manager \u001b[39m==\u001b[39m \u001b[39m\"\u001b[39m\u001b[39mblock\u001b[39m\u001b[39m\"\u001b[39m:\n",
      "File \u001b[0;32m~/Documents/Projects/kalshi_bot/.venv/lib/python3.11/site-packages/pandas/core/construction.py:593\u001b[0m, in \u001b[0;36msanitize_array\u001b[0;34m(data, index, dtype, copy, allow_2d)\u001b[0m\n\u001b[1;32m    591\u001b[0m subarr \u001b[39m=\u001b[39m data\n\u001b[1;32m    592\u001b[0m \u001b[39mif\u001b[39;00m data\u001b[39m.\u001b[39mdtype \u001b[39m==\u001b[39m \u001b[39mobject\u001b[39m:\n\u001b[0;32m--> 593\u001b[0m     subarr \u001b[39m=\u001b[39m maybe_infer_to_datetimelike(data)\n\u001b[1;32m    594\u001b[0m \u001b[39melif\u001b[39;00m data\u001b[39m.\u001b[39mdtype\u001b[39m.\u001b[39mkind \u001b[39m==\u001b[39m \u001b[39m\"\u001b[39m\u001b[39mU\u001b[39m\u001b[39m\"\u001b[39m \u001b[39mand\u001b[39;00m using_pyarrow_string_dtype():\n\u001b[1;32m    595\u001b[0m     \u001b[39mfrom\u001b[39;00m \u001b[39mpandas\u001b[39;00m\u001b[39m.\u001b[39;00m\u001b[39mcore\u001b[39;00m\u001b[39m.\u001b[39;00m\u001b[39marrays\u001b[39;00m\u001b[39m.\u001b[39;00m\u001b[39mstring_\u001b[39;00m \u001b[39mimport\u001b[39;00m StringDtype\n",
      "File \u001b[0;32m~/Documents/Projects/kalshi_bot/.venv/lib/python3.11/site-packages/pandas/core/dtypes/cast.py:1180\u001b[0m, in \u001b[0;36mmaybe_infer_to_datetimelike\u001b[0;34m(value)\u001b[0m\n\u001b[1;32m   1175\u001b[0m     \u001b[39mreturn\u001b[39;00m value\n\u001b[1;32m   1177\u001b[0m \u001b[39m# error: Incompatible return value type (got \"Union[ExtensionArray,\u001b[39;00m\n\u001b[1;32m   1178\u001b[0m \u001b[39m# ndarray[Any, Any]]\", expected \"Union[ndarray[Any, Any], DatetimeArray,\u001b[39;00m\n\u001b[1;32m   1179\u001b[0m \u001b[39m# TimedeltaArray, PeriodArray, IntervalArray]\")\u001b[39;00m\n\u001b[0;32m-> 1180\u001b[0m \u001b[39mreturn\u001b[39;00m lib\u001b[39m.\u001b[39;49mmaybe_convert_objects(  \u001b[39m# type: ignore[return-value]\u001b[39;49;00m\n\u001b[1;32m   1181\u001b[0m     value,\n\u001b[1;32m   1182\u001b[0m     \u001b[39m# Here we do not convert numeric dtypes, as if we wanted that,\u001b[39;49;00m\n\u001b[1;32m   1183\u001b[0m     \u001b[39m#  numpy would have done it for us.\u001b[39;49;00m\n\u001b[1;32m   1184\u001b[0m     convert_numeric\u001b[39m=\u001b[39;49m\u001b[39mFalse\u001b[39;49;00m,\n\u001b[1;32m   1185\u001b[0m     convert_non_numeric\u001b[39m=\u001b[39;49m\u001b[39mTrue\u001b[39;49;00m,\n\u001b[1;32m   1186\u001b[0m     dtype_if_all_nat\u001b[39m=\u001b[39;49mnp\u001b[39m.\u001b[39;49mdtype(\u001b[39m\"\u001b[39;49m\u001b[39mM8[ns]\u001b[39;49m\u001b[39m\"\u001b[39;49m),\n\u001b[1;32m   1187\u001b[0m )\n",
      "File \u001b[0;32mlib.pyx:2700\u001b[0m, in \u001b[0;36mpandas._libs.lib.maybe_convert_objects\u001b[0;34m()\u001b[0m\n",
      "File \u001b[0;32m~/Documents/Projects/kalshi_bot/.venv/lib/python3.11/site-packages/pandas/_config/__init__.py:43\u001b[0m, in \u001b[0;36musing_pyarrow_string_dtype\u001b[0;34m()\u001b[0m\n\u001b[1;32m     39\u001b[0m     _mode_options \u001b[39m=\u001b[39m _global_config[\u001b[39m\"\u001b[39m\u001b[39mmode\u001b[39m\u001b[39m\"\u001b[39m]\n\u001b[1;32m     40\u001b[0m     \u001b[39mreturn\u001b[39;00m _mode_options[\u001b[39m\"\u001b[39m\u001b[39mnullable_dtypes\u001b[39m\u001b[39m\"\u001b[39m]\n\u001b[0;32m---> 43\u001b[0m \u001b[39mdef\u001b[39;00m \u001b[39musing_pyarrow_string_dtype\u001b[39m() \u001b[39m-\u001b[39m\u001b[39m>\u001b[39m \u001b[39mbool\u001b[39m:\n\u001b[1;32m     44\u001b[0m     _mode_options \u001b[39m=\u001b[39m _global_config[\u001b[39m\"\u001b[39m\u001b[39mfuture\u001b[39m\u001b[39m\"\u001b[39m]\n\u001b[1;32m     45\u001b[0m     \u001b[39mreturn\u001b[39;00m _mode_options[\u001b[39m\"\u001b[39m\u001b[39minfer_string\u001b[39m\u001b[39m\"\u001b[39m]\n",
      "\u001b[0;31mKeyboardInterrupt\u001b[0m: "
     ]
    }
   ],
   "source": [
    "histories = []\n",
    "for m in kalshi_spy_markets:\n",
    "    strategy = MatchSpy(spy_source=spy_cursor, kalshi_spy_market = m, price=Price(10), qty=Quantity(1))\n",
    "    \n",
    "    historical_features.precalculate_strategy_features(strategy=strategy)\n",
    "    kalshi_orderbook_updates = ColeDBInterface().read_cursor(ticker=m.ticker, start_ts=day_start, end_ts=day_end)\n",
    "    sim = ActiveIOCStrategySimulator(kalshi_orderbook_updates=kalshi_orderbook_updates, historical_data=historical_features, pretty=True)\n",
    "    result = sim.run(strategy=strategy)\n",
    "    histories.append(result)\n",
    "    print(result.pnl)\n",
    "    "
   ]
  }
 ],
 "metadata": {
  "kernelspec": {
   "display_name": ".venv",
   "language": "python",
   "name": "python3"
  },
  "language_info": {
   "codemirror_mode": {
    "name": "ipython",
    "version": 3
   },
   "file_extension": ".py",
   "mimetype": "text/x-python",
   "name": "python",
   "nbconvert_exporter": "python",
   "pygments_lexer": "ipython3",
   "version": "3.11.5"
  }
 },
 "nbformat": 4,
 "nbformat_minor": 2
}
