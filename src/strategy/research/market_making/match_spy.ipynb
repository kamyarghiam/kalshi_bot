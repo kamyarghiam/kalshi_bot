{
 "cells": [
  {
   "cell_type": "code",
   "execution_count": 4,
   "metadata": {},
   "outputs": [],
   "source": [
    "from strategy.match_spy import MatchSpy\n",
    "from strategy.utils import HistoricalObservationSetCursor\n",
    "from strategy.features.base.kalshi import daily_spy_range_kalshi_markets\n",
    "from strategy.features.base.spy import hist_spy_feature\n",
    "from strategy.sim.active_ioc import ActiveIOCStrategySimulator\n",
    "from data.coledb.coledb import ColeDBInterface, ColeDBCursor"
   ]
  },
  {
   "cell_type": "code",
   "execution_count": 5,
   "metadata": {},
   "outputs": [
    {
     "ename": "FileNotFoundError",
     "evalue": "[Errno 2] No such file or directory: 'src/data/coledb/storage/INXD/23SEP12'",
     "output_type": "error",
     "traceback": [
      "\u001b[0;31m---------------------------------------------------------------------------\u001b[0m",
      "\u001b[0;31mFileNotFoundError\u001b[0m                         Traceback (most recent call last)",
      "\u001b[1;32m/home/jroper/Documents/Projects/kalshi_bot/src/data/research/market_making/match_spy.ipynb Cell 2\u001b[0m line \u001b[0;36m1\n\u001b[1;32m     <a href='vscode-notebook-cell:/home/jroper/Documents/Projects/kalshi_bot/src/data/research/market_making/match_spy.ipynb#W1sZmlsZQ%3D%3D?line=9'>10</a>\u001b[0m day_end \u001b[39m=\u001b[39m datetime\u001b[39m.\u001b[39mdatetime\u001b[39m.\u001b[39mcombine(date\u001b[39m=\u001b[39mdate, time\u001b[39m=\u001b[39mdatetime\u001b[39m.\u001b[39mtime\u001b[39m.\u001b[39mmax)\n\u001b[1;32m     <a href='vscode-notebook-cell:/home/jroper/Documents/Projects/kalshi_bot/src/data/research/market_making/match_spy.ipynb#W1sZmlsZQ%3D%3D?line=11'>12</a>\u001b[0m spy_cursor \u001b[39m=\u001b[39m hist_spy_feature(es_file\u001b[39m=\u001b[39mes_file)\n\u001b[0;32m---> <a href='vscode-notebook-cell:/home/jroper/Documents/Projects/kalshi_bot/src/data/research/market_making/match_spy.ipynb#W1sZmlsZQ%3D%3D?line=12'>13</a>\u001b[0m kalshi_spy_markets \u001b[39m=\u001b[39m daily_spy_range_kalshi_markets(date\u001b[39m=\u001b[39;49mdate)\n\u001b[1;32m     <a href='vscode-notebook-cell:/home/jroper/Documents/Projects/kalshi_bot/src/data/research/market_making/match_spy.ipynb#W1sZmlsZQ%3D%3D?line=13'>14</a>\u001b[0m \u001b[39mfor\u001b[39;00m m \u001b[39min\u001b[39;00m kalshi_spy_markets:\n\u001b[1;32m     <a href='vscode-notebook-cell:/home/jroper/Documents/Projects/kalshi_bot/src/data/research/market_making/match_spy.ipynb#W1sZmlsZQ%3D%3D?line=14'>15</a>\u001b[0m     strategy \u001b[39m=\u001b[39m MatchSpy(spy_source\u001b[39m=\u001b[39mspy_cursor, kalshi_spy_markets\u001b[39m=\u001b[39mkalshi_spy_markets, price\u001b[39m=\u001b[39mPrice(\u001b[39m10\u001b[39m), qty\u001b[39m=\u001b[39mQuantity(\u001b[39m1\u001b[39m))\n",
      "File \u001b[0;32m~/Documents/Projects/kalshi_bot/src/strategy/features/base/kalshi.py:24\u001b[0m, in \u001b[0;36mdaily_spy_range_kalshi_markets\u001b[0;34m(date, cole)\u001b[0m\n\u001b[1;32m     21\u001b[0m date_month_str \u001b[39m=\u001b[39m date\u001b[39m.\u001b[39mstrftime(\u001b[39m\"\u001b[39m\u001b[39m%\u001b[39m\u001b[39mb\u001b[39m\u001b[39m\"\u001b[39m)\u001b[39m.\u001b[39mupper()\n\u001b[1;32m     22\u001b[0m ticker_prefix \u001b[39m=\u001b[39m MarketTicker(\u001b[39mf\u001b[39m\u001b[39m\"\u001b[39m\u001b[39mINXD-\u001b[39m\u001b[39m{\u001b[39;00mdate\u001b[39m.\u001b[39myear\u001b[39m \u001b[39m\u001b[39m-\u001b[39m\u001b[39m \u001b[39m\u001b[39m2000\u001b[39m\u001b[39m}\u001b[39;00m\u001b[39m{\u001b[39;00mdate_month_str\u001b[39m}\u001b[39;00m\u001b[39m{\u001b[39;00mdate\u001b[39m.\u001b[39mday\u001b[39m}\u001b[39;00m\u001b[39m\"\u001b[39m)\n\u001b[1;32m     23\u001b[0m market_tickers \u001b[39m=\u001b[39m \u001b[39mlist\u001b[39m(\n\u001b[0;32m---> 24\u001b[0m     cole\u001b[39m.\u001b[39;49mget_submarkets(ticker_prefix\u001b[39m=\u001b[39;49mticker_prefix, recursive\u001b[39m=\u001b[39;49m\u001b[39mTrue\u001b[39;49;00m)\n\u001b[1;32m     25\u001b[0m )\n\u001b[1;32m     26\u001b[0m market_tickers\u001b[39m.\u001b[39msort()\n\u001b[1;32m     28\u001b[0m tickers_and_suffixes \u001b[39m=\u001b[39m [\n\u001b[1;32m     29\u001b[0m     (t, t\u001b[39m.\u001b[39mremoveprefix(ticker_prefix \u001b[39m+\u001b[39m \u001b[39m\"\u001b[39m\u001b[39m-\u001b[39m\u001b[39m\"\u001b[39m)) \u001b[39mfor\u001b[39;00m t \u001b[39min\u001b[39;00m market_tickers\n\u001b[1;32m     30\u001b[0m ]\n",
      "File \u001b[0;32m~/Documents/Projects/kalshi_bot/src/data/coledb/coledb.py:204\u001b[0m, in \u001b[0;36mColeDBInterface.get_submarkets\u001b[0;34m(self, ticker_prefix, recursive)\u001b[0m\n\u001b[1;32m    202\u001b[0m \u001b[39m# Chek all subdirs recursively.\u001b[39;00m\n\u001b[1;32m    203\u001b[0m final_markets: List[MarketTicker] \u001b[39m=\u001b[39m []\n\u001b[0;32m--> 204\u001b[0m \u001b[39mfor\u001b[39;49;00m p \u001b[39min\u001b[39;49;00m submarket_paths:\n\u001b[1;32m    205\u001b[0m     current_ticker \u001b[39m=\u001b[39;49m MarketTicker(\u001b[39mf\u001b[39;49m\u001b[39m\"\u001b[39;49m\u001b[39m{\u001b[39;49;00mticker_prefix\u001b[39m}\u001b[39;49;00m\u001b[39m-\u001b[39;49m\u001b[39m{\u001b[39;49;00mp\u001b[39m.\u001b[39;49mname\u001b[39m}\u001b[39;49;00m\u001b[39m\"\u001b[39;49m)\n\u001b[1;32m    206\u001b[0m     \u001b[39m# If the current ticker is in the DB, add it.\u001b[39;49;00m\n",
      "File \u001b[0;32m~/Documents/Projects/kalshi_bot/src/data/coledb/coledb.py:195\u001b[0m, in \u001b[0;36m<genexpr>\u001b[0;34m(.0)\u001b[0m\n\u001b[1;32m    186\u001b[0m \u001b[39mdef\u001b[39;00m \u001b[39mget_submarkets\u001b[39m(\n\u001b[1;32m    187\u001b[0m     \u001b[39mself\u001b[39m, ticker_prefix: MarketTicker, recursive: \u001b[39mbool\u001b[39m \u001b[39m=\u001b[39m \u001b[39mFalse\u001b[39;00m\n\u001b[1;32m    188\u001b[0m ) \u001b[39m-\u001b[39m\u001b[39m>\u001b[39m Iterable[MarketTicker]:\n\u001b[1;32m    189\u001b[0m \u001b[39m    \u001b[39m\u001b[39m\"\"\"\u001b[39;00m\n\u001b[1;32m    190\u001b[0m \u001b[39m    Gets all submarkets given a standardized series prefix.\u001b[39;00m\n\u001b[1;32m    191\u001b[0m \u001b[39m    If recursive is true,\u001b[39;00m\n\u001b[1;32m    192\u001b[0m \u001b[39m      only returns market tickers that are finalized/complete tickers.\u001b[39;00m\n\u001b[1;32m    193\u001b[0m \u001b[39m    Else, we'll just return more series with\u001b[39;00m\n\u001b[1;32m    194\u001b[0m \u001b[39m    \"\"\"\u001b[39;00m\n\u001b[0;32m--> 195\u001b[0m     submarket_paths \u001b[39m=\u001b[39m (\n\u001b[1;32m    196\u001b[0m         d \u001b[39mfor\u001b[39;49;00m d \u001b[39min\u001b[39;49;00m \u001b[39mself\u001b[39;49m\u001b[39m.\u001b[39;49mticker_to_path(ticker\u001b[39m=\u001b[39;49mticker_prefix)\u001b[39m.\u001b[39;49miterdir() \u001b[39mif\u001b[39;49;00m d\u001b[39m.\u001b[39;49mis_dir()\n\u001b[1;32m    197\u001b[0m     )\n\u001b[1;32m    199\u001b[0m     \u001b[39mif\u001b[39;00m \u001b[39mnot\u001b[39;00m recursive:\n\u001b[1;32m    200\u001b[0m         \u001b[39mreturn\u001b[39;00m (MarketTicker(\u001b[39mf\u001b[39m\u001b[39m\"\u001b[39m\u001b[39m{\u001b[39;00mticker_prefix\u001b[39m}\u001b[39;00m\u001b[39m-\u001b[39m\u001b[39m{\u001b[39;00mp\u001b[39m.\u001b[39mname\u001b[39m}\u001b[39;00m\u001b[39m\"\u001b[39m) \u001b[39mfor\u001b[39;00m p \u001b[39min\u001b[39;00m submarket_paths)\n",
      "File \u001b[0;32m/usr/lib/python3.11/pathlib.py:931\u001b[0m, in \u001b[0;36mPath.iterdir\u001b[0;34m(self)\u001b[0m\n\u001b[1;32m    927\u001b[0m \u001b[39mdef\u001b[39;00m \u001b[39miterdir\u001b[39m(\u001b[39mself\u001b[39m):\n\u001b[1;32m    928\u001b[0m \u001b[39m    \u001b[39m\u001b[39m\"\"\"Iterate over the files in this directory.  Does not yield any\u001b[39;00m\n\u001b[1;32m    929\u001b[0m \u001b[39m    result for the special paths '.' and '..'.\u001b[39;00m\n\u001b[1;32m    930\u001b[0m \u001b[39m    \"\"\"\u001b[39;00m\n\u001b[0;32m--> 931\u001b[0m     \u001b[39mfor\u001b[39;00m name \u001b[39min\u001b[39;00m os\u001b[39m.\u001b[39;49mlistdir(\u001b[39mself\u001b[39;49m):\n\u001b[1;32m    932\u001b[0m         \u001b[39myield\u001b[39;00m \u001b[39mself\u001b[39m\u001b[39m.\u001b[39m_make_child_relpath(name)\n",
      "\u001b[0;31mFileNotFoundError\u001b[0m: [Errno 2] No such file or directory: 'src/data/coledb/storage/INXD/23SEP12'"
     ]
    }
   ],
   "source": [
    "import pathlib\n",
    "import datetime\n",
    "\n",
    "from helpers.types.money import Price\n",
    "from helpers.types.orders import Quantity\n",
    "\n",
    "es_file = pathlib.Path(\"./es_data/sep.csv\")\n",
    "# I need a day both with ES and with kalshi INXD data. \n",
    "# We, surprisingly, don't have one :(. \n",
    "\n",
    "date = datetime.date(year=2023, month=9, day=12)\n",
    "day_start = datetime.datetime.combine(date=date, time=datetime.time.min)\n",
    "day_end = datetime.datetime.combine(date=date, time=datetime.time.max)\n",
    "\n",
    "spy_cursor = hist_spy_feature(es_file=es_file)\n",
    "kalshi_spy_markets = daily_spy_range_kalshi_markets(date=date)\n",
    "for m in kalshi_spy_markets:\n",
    "    strategy = MatchSpy(spy_source=spy_cursor, kalshi_spy_markets=kalshi_spy_markets, price=Price(10), qty=Quantity(1))\n",
    "    historical_features = HistoricalObservationSetCursor.from_observation_streams(feature_streams=[spy_cursor])\n",
    "    kalshi_orderbook_updates = ColeDBInterface().read_cursor(ticker=m.ticker, start_ts=day_start, end_ts=day_end)\n",
    "    sim = ActiveIOCStrategySimulator(kalshi_orderbook_updates=kalshi_orderbook_updates, historical_data=historical_features)\n",
    "    result = sim.run(strategy=strategy)\n",
    "    print(result.pnl)"
   ]
  }
 ],
 "metadata": {
  "kernelspec": {
   "display_name": ".venv",
   "language": "python",
   "name": "python3"
  },
  "language_info": {
   "codemirror_mode": {
    "name": "ipython",
    "version": 3
   },
   "file_extension": ".py",
   "mimetype": "text/x-python",
   "name": "python",
   "nbconvert_exporter": "python",
   "pygments_lexer": "ipython3",
   "version": "3.11.5"
  }
 },
 "nbformat": 4,
 "nbformat_minor": 2
}
